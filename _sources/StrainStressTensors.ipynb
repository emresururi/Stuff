{
 "cells": [
  {
   "cell_type": "markdown",
   "id": "84dec16d",
   "metadata": {},
   "source": [
    "# Stress - Strain Tensors & Elasticity\n",
    "\n",
    "Dr. Emre S. Tasci, emre.tasci@hacettepe.edu.tr  \n",
    "Dept. Eng. Physics  \n",
    "Hacettepe University  \n",
    "Ankara / Turkey\n",
    "\n",
    "July 2024"
   ]
  },
  {
   "cell_type": "code",
   "execution_count": 1,
   "id": "b389b30f",
   "metadata": {},
   "outputs": [],
   "source": [
    "import numpy as np\n",
    "import sympy as smp\n",
    "from scipy.optimize import fsolve"
   ]
  },
  {
   "cell_type": "markdown",
   "id": "f913f8e1",
   "metadata": {},
   "source": [
    "## Passive transformation\n",
    "\n",
    "In the passive transformation, the point(s) stay fixed while the coordinate system rotates counterclockwise by an angle $\\theta$:\n",
    "\n",
    "![imgs/StressStrain_PassiveTransformation.png](imgs/StressStrain_PassiveTransformation.png)"
   ]
  },
  {
   "cell_type": "markdown",
   "id": "87717fae",
   "metadata": {},
   "source": [
    "The relation between the old and new basis vectors are defined through the transformation matrix $P_\\theta$:\n",
    "\n",
    "$$P_\\theta = \\begin{pmatrix}\\cos\\theta&\\sin\\theta\\\\-\\sin\\theta&\\cos\\theta\\end{pmatrix}$$\n",
    "\n",
    "as\n",
    "\n",
    "$$\\begin{pmatrix}\\hat x_1'\\\\\\hat x_2'\\end{pmatrix} = P_\\theta\\begin{pmatrix}\\hat x_1\\\\\\hat x_2\\end{pmatrix}=\n",
    " \\begin{pmatrix}\\cos\\theta&\\sin\\theta\\\\-\\sin\\theta&\\cos\\theta\\end{pmatrix}\\begin{pmatrix}\\hat x_1\\\\\\hat x_2\\end{pmatrix}=\\begin{pmatrix}\\cos\\theta\\hat x_1 + \\sin\\theta \\hat x_2\\\\-\\sin\\theta\\hat x_1 + \\cos\\theta \\hat x_2\\end{pmatrix}$$\n",
    " \n",
    "and the inverse transformation that relates the old basis to the new ones is of course given as:\n",
    "\n",
    "$$\\begin{pmatrix}\\hat x_1\\\\\\hat x_2\\end{pmatrix} = P_\\theta^{-1}\\begin{pmatrix}\\hat x_1'\\\\\\hat x_2'\\end{pmatrix}=\n",
    " \\begin{pmatrix}\\cos\\theta&-\\sin\\theta\\\\\\sin\\theta&\\cos\\theta\\end{pmatrix}\\begin{pmatrix}\\hat x_1'\\\\\\hat x_2'\\end{pmatrix}=\\begin{pmatrix}\\cos\\theta\\hat x_1' - \\sin\\theta \\hat x_2'\\\\\\sin\\theta\\hat x_1' + \\cos\\theta \\hat x_2'\\end{pmatrix}$$"
   ]
  },
  {
   "cell_type": "code",
   "execution_count": 2,
   "id": "23fc3df5",
   "metadata": {},
   "outputs": [
    {
     "data": {
      "text/plain": [
       "array([[ 0.8660254,  0.5      ],\n",
       "       [-0.5      ,  0.8660254]])"
      ]
     },
     "execution_count": 2,
     "metadata": {},
     "output_type": "execute_result"
    }
   ],
   "source": [
    "theta = np.deg2rad(30)\n",
    "cos = np.cos(theta)\n",
    "sin = np.sin(theta)\n",
    "P = np.array([[cos,sin],[-sin,cos]])\n",
    "P"
   ]
  },
  {
   "cell_type": "code",
   "execution_count": 3,
   "id": "9de9f0d2",
   "metadata": {},
   "outputs": [],
   "source": [
    "(x1,x2,x1p,x2p) = smp.symbols([\"\\hat{x}_{1}\",\n",
    "                               \"\\hat{x}_{2}\",\n",
    "                               \"\\hat{x}_{1}'\",\n",
    "                               \"\\hat{x}_{2}'\"])"
   ]
  },
  {
   "cell_type": "code",
   "execution_count": 4,
   "id": "fe9f0a5c",
   "metadata": {},
   "outputs": [
    {
     "data": {
      "text/latex": [
       "$\\displaystyle \\theta$"
      ],
      "text/plain": [
       "\\theta"
      ]
     },
     "execution_count": 4,
     "metadata": {},
     "output_type": "execute_result"
    }
   ],
   "source": [
    "x = smp.Array([[x1],[x2]])\n",
    "xp = smp.Array([[x1p],[x2p]])\n",
    "theta = smp.symbols(r\"\\theta\")\n",
    "theta"
   ]
  },
  {
   "cell_type": "code",
   "execution_count": 5,
   "id": "d880670d",
   "metadata": {},
   "outputs": [
    {
     "data": {
      "text/latex": [
       "$\\displaystyle \\left[\\begin{matrix}\\cos{\\left(\\theta \\right)} & \\sin{\\left(\\theta \\right)}\\\\- \\sin{\\left(\\theta \\right)} & \\cos{\\left(\\theta \\right)}\\end{matrix}\\right]$"
      ],
      "text/plain": [
       "[[cos(\\theta), sin(\\theta)], [-sin(\\theta), cos(\\theta)]]"
      ]
     },
     "execution_count": 5,
     "metadata": {},
     "output_type": "execute_result"
    }
   ],
   "source": [
    "P = smp.Array([[smp.cos(theta),smp.sin(theta)],\n",
    "               [-smp.sin(theta),smp.cos(theta)]])\n",
    "Pi = smp.Array([[smp.cos(theta),-smp.sin(theta)],\n",
    "                [smp.sin(theta),smp.cos(theta)]])\n",
    "P"
   ]
  },
  {
   "cell_type": "markdown",
   "id": "d81b1862",
   "metadata": {},
   "source": [
    "Consider a point A, defined as:\n",
    "\n",
    "$$A=\\begin{pmatrix}3\\\\4\\end{pmatrix}_{\\hat x_1,\\hat x_2} = 3\\hat x_1 + 4 \\hat x_2$$\n",
    "\n",
    "From the above transformation, we see that:\n",
    "\n",
    "$$\\begin{matrix}\\hat x_1 = \\cos\\theta \\hat x_1'-\\sin\\theta \\hat x_2'\\\\\n",
    "\\hat x_2 = \\sin\\theta \\hat x_1'+\\cos\\theta \\hat x_2'\\end{matrix}$$"
   ]
  },
  {
   "cell_type": "markdown",
   "id": "58d0e9d1",
   "metadata": {},
   "source": [
    "Substitution of the new basis in place of the old ones, we have:\n",
    "\n",
    "$$\\begin{align}A &= 3\\left( \\cos\\theta \\hat x_1'-\\sin\\theta \\hat x_2'\\right)+4\\left(\\sin\\theta \\hat x_1'+\\cos\\theta \\hat x_2'\\right)\\\\\n",
    "&=\\left(3\\cos\\theta+4\\sin\\theta\\right)\\hat x_1' + \\left(-3\\sin\\theta+4\\cos\\theta \\right)\\hat x_2'\\\\\n",
    "&=\\begin{pmatrix}3\\cos\\theta+4\\sin\\theta\\\\-3\\sin\\theta+4\\cos\\theta\\end{pmatrix}_{\\hat x_1',\\hat x_2'}\n",
    "\\end{align}$$"
   ]
  },
  {
   "cell_type": "code",
   "execution_count": 6,
   "id": "0c537d18",
   "metadata": {},
   "outputs": [
    {
     "data": {
      "text/latex": [
       "$\\displaystyle \\left[\\begin{matrix}4 \\sin{\\left(\\theta \\right)} + 3 \\cos{\\left(\\theta \\right)}\\\\- 3 \\sin{\\left(\\theta \\right)} + 4 \\cos{\\left(\\theta \\right)}\\end{matrix}\\right]$"
      ],
      "text/plain": [
       "[[4*sin(\\theta) + 3*cos(\\theta)], [-3*sin(\\theta) + 4*cos(\\theta)]]"
      ]
     },
     "execution_count": 6,
     "metadata": {},
     "output_type": "execute_result"
    }
   ],
   "source": [
    "Ap = smp.Array([[3*smp.cos(theta)+4*smp.sin(theta)],\n",
    "                [-3*smp.sin(theta)+4*smp.cos(theta)]])\n",
    "Ap"
   ]
  },
  {
   "cell_type": "code",
   "execution_count": 7,
   "id": "abeb50be",
   "metadata": {},
   "outputs": [
    {
     "data": {
      "text/latex": [
       "$\\displaystyle \\left[\\begin{matrix}4.59807621135332\\\\1.96410161513776\\end{matrix}\\right]$"
      ],
      "text/plain": [
       "[[4.59807621135332], [1.96410161513776]]"
      ]
     },
     "execution_count": 7,
     "metadata": {},
     "output_type": "execute_result"
    }
   ],
   "source": [
    "Ap_subs = Ap.subs(theta,np.pi/6)\n",
    "Ap_subs"
   ]
  },
  {
   "cell_type": "code",
   "execution_count": 8,
   "id": "98363aef",
   "metadata": {},
   "outputs": [
    {
     "data": {
      "text/plain": [
       "array([[4.59807621],\n",
       "       [1.96410162]])"
      ]
     },
     "execution_count": 8,
     "metadata": {},
     "output_type": "execute_result"
    }
   ],
   "source": [
    "Ap_np = np.array(Ap_subs).astype(float)\n",
    "Ap_np"
   ]
  },
  {
   "cell_type": "markdown",
   "id": "38f88c8f",
   "metadata": {},
   "source": [
    "$$A = 3\\hat x_1 + 4 \\hat x_2 = \\left(3\\cos\\theta+4\\sin\\theta\\right)\\hat x_1' + \\left(-3\\sin\\theta+4\\cos\\theta \\right)\\hat x_2'$$\n",
    "\n",
    "or, in other words:\n",
    "\n",
    "$$ A = \\begin{pmatrix}3\\\\4\\end{pmatrix}_{\\hat x_1,\\hat x_2} = \\begin{pmatrix}3\\cos\\theta+4\\sin\\theta\\\\-3\\sin\\theta+4\\cos\\theta\\end{pmatrix}_{\\hat x_1',\\hat x_2'}$$"
   ]
  },
  {
   "cell_type": "markdown",
   "id": "78b8cacf",
   "metadata": {},
   "source": [
    "## Active Transformation\n",
    "\n",
    "![imgs/StressStrain_ActiveTransformation.png](imgs/StressStrain_ActiveTransformation.png)\n",
    "\n",
    "We could have perceived the same action by _rotating_ the point in question in the opposite direction towards the coordinate axis. In our example, this is equivalent to rotating the point 30<sup>o</sup> in the clockwise direction instead of rotating the coordinate system 30<sup>o</sup> along the counter-clockwise direction. \n",
    "\n",
    "Since the rotation operator $R_\\theta$ is defined as:\n",
    "\n",
    "$$R_\\theta = \\begin{pmatrix}\\cos\\theta &-\\sin\\theta\\\\\\sin\\theta & \\cos\\theta\\end{pmatrix}$$\n",
    "\n",
    "and our rotation direction is along the clockwise, i.e., the negative direction, we'll have:\n",
    "\n",
    "$$R_\\theta = \\begin{pmatrix}\\cos(-\\theta) &-\\sin(-\\theta)\\\\\\sin(-\\theta) & \\cos(-\\theta)\\end{pmatrix}\n",
    "=\\begin{pmatrix}\\cos\\theta &\\sin\\theta\\\\-\\sin\\theta & \\cos\\theta\\end{pmatrix}$$\n",
    "\n",
    "As $\\cos(\\theta)$ and $\\sin(\\theta)$ are even and odd functions, respectively."
   ]
  },
  {
   "cell_type": "code",
   "execution_count": 9,
   "id": "5d6be88d",
   "metadata": {},
   "outputs": [
    {
     "data": {
      "text/plain": [
       "array([[4.59807621],\n",
       "       [1.96410162]])"
      ]
     },
     "execution_count": 9,
     "metadata": {},
     "output_type": "execute_result"
    }
   ],
   "source": [
    "R = np.array([[cos,sin],[-sin,cos]])\n",
    "np.dot(R,np.array([[3],[4]]))"
   ]
  },
  {
   "cell_type": "markdown",
   "id": "c87a2349",
   "metadata": {},
   "source": [
    "## Tensor Analysis\n",
    "\n",
    "Tensors transform according to a very strict formula. In our case, we are dealing with vectors (i.e., tensors of 1st rank) and they transform via the following equation:\n",
    "\n",
    "$$\\hat x_i' = a_{ij}\\hat x_j$$\n",
    "\n",
    "here, Einstein notation is followed and $a_{ij}$ is the cosine of the angle between the new base $\\hat x_i'$ and the old one $\\hat x_j$ (as usual, counter-clockwise being the positive direction and clockwise being the negative direction).\n",
    "\n",
    "Considering our transformation:\n",
    "\n",
    "![imgs/StressStrain_PassiveTransformation.png](imgs/StressStrain_PassiveTransformation.png)"
   ]
  },
  {
   "cell_type": "markdown",
   "id": "fbfb7cc8",
   "metadata": {},
   "source": [
    "let's calculate the new basis in terms of the old ones. Writing the above equation in full form:\n",
    "\n",
    "$$\\begin{align}\n",
    "\\hat x_1' &= a_{11}\\hat x_1 + a_{12}\\hat x_2\\\\\n",
    "\\hat x_2' &= a_{21}\\hat x_1 + a_{22}\\hat x_2\n",
    "\\end{align}$$\n",
    "\n",
    "From the graph, we see that:\n",
    "\n",
    "$$\\begin{array}{}\n",
    "a_{11} = \\cos(\\angle{\\hat x_1' \\hat x_1}) = \\cos(-\\theta)=\\cos\\theta\\\\\n",
    "a_{12} = \\cos(\\angle{\\hat x_1' \\hat x_2}) = \\cos(\\frac{\\pi}{2}-\\theta) = \\sin\\theta\\\\\n",
    "a_{21} = \\cos(\\angle{\\hat x_2' \\hat x_1}) = \\cos(-(\\frac{\\pi}{2}+\\theta)) = -\\sin\\theta\\\\\n",
    "a_{22} = \\cos(\\angle{\\hat x_2' \\hat x_2}) = \\cos(-\\theta) = \\cos\\theta\n",
    "\\end{array}$$\n",
    "\n",
    "```{warning}\n",
    "Check that, the angle is always calculated starting from the new basis and going towards the old one - that's why, when we're moving in clockwise direction, the angle is taken to be negative.\n",
    "```\n",
    "\n",
    "It is also obvious but still worth to mention: in general $a_{ij}\\ne a_{ji}$.\n",
    "\n",
    "Also, a transformation doesn't necessarily need to correspond to a simple rotation of the basis like the one we are considering. We could have two different angles between the corresponding new and old basis."
   ]
  },
  {
   "cell_type": "markdown",
   "id": "e224b16e",
   "metadata": {},
   "source": [
    "Substitution of the $a$ values into the equation above, we find:\n",
    "\n",
    "$$\\begin{align}\n",
    "\\hat x_1' &= a_{11}\\hat x_1 + a_{12}\\hat x_2 = \\cos\\theta\\hat x_1 + \\sin\\theta\\hat x_2\\\\\n",
    "\\hat x_2' &= a_{21}\\hat x_1 + a_{22}\\hat x_2 = -\\sin\\theta\\hat x_1 + \\cos\\theta\\hat x_2\n",
    "\\end{align}$$\n",
    "\n",
    "or in other \"words\":\n",
    "\n",
    "$$\\begin{pmatrix}\\hat x_1'\\\\\\hat x_2'\\end{pmatrix} = \\begin{pmatrix}\\cos\\theta&\\sin\\theta\\\\\n",
    "-\\sin\\theta&\\cos\\theta\\end{pmatrix}\\begin{pmatrix}\\hat x_1\\\\\\hat x_2\\end{pmatrix}$$\n",
    "\n",
    "as expected."
   ]
  },
  {
   "cell_type": "markdown",
   "id": "4a048375",
   "metadata": {},
   "source": [
    "### The transformation matrix\n",
    "\n",
    "As we have seen, the transformation matrix $P$ composes of the cosines relating the new axes to the old ones:\n",
    "\n",
    "$$P=\\left[\\begin{matrix}a_{11} & a_{12} & a_{13}\\\\a_{21} & a_{22} & a_{23}\\\\a_{31} & a_{32} & a_{33}\\end{matrix}\\right]$$\n",
    "\n",
    "Vectors and tensors transform in accordance with the following transformation formulas:\n",
    "\n",
    "$$v_{i}' = a_{ij} v_{j}\\\\\n",
    "T_{ij}' = a_{ik}a_{jl}T_{kl}$$\n",
    "\n",
    "\\[Nye1985 I.2 \"Transformations\"\\]\n",
    "\n",
    "Here, the Einstein summation notation has been used, so, for example, $\\vec v'$ and $T_{12}'$ are calculated as:\n",
    "\n",
    "$$v'=\\begin{bmatrix}x'\\\\y'\\\\z'\\end{bmatrix}=\\begin{bmatrix}a_{11} x + a_{12} y + a_{13} z\\\\a_{21} x + a_{22} y + a_{23} z\\\\a_{31} x + a_{32} y + a_{33} z\\end{bmatrix}$$\n",
    "\n",
    "$$\\begin{align}T_{12}' &= a_{11}a_{21}T_{11}+a_{11}a_{22}T_{12}+a_{11}a_{23}T_{13}\\\\\n",
    "&+a_{12}a_{21}T_{21}+a_{12}a_{22}T_{22}+a_{12}a_{23}T_{23}\\\\\n",
    "&+a_{13}a_{21}T_{31}+a_{13}a_{22}T_{32}+a_{13}a_{23}T_{33}\\end{align}$$"
   ]
  },
  {
   "cell_type": "markdown",
   "id": "c915d5cc",
   "metadata": {},
   "source": [
    "## Principal stresses & axes\n",
    "\n",
    "### Case\n",
    "\n",
    "Calculate the principal stresses and their directions for the given stress tensor $\\sigma$:\n",
    "\n",
    "$$\\sigma = \\begin{bmatrix}\n",
    "5&-7&3\\\\\n",
    "-7&9&-4\\\\\n",
    "3&-4&-6\\end{bmatrix}$$\n",
    "\n",
    "### Solution\n",
    "\n",
    "Normally this is pretty straightforward as the eigenvalues yield the principal stresses and the eigenvectors their direction, so:"
   ]
  },
  {
   "cell_type": "code",
   "execution_count": 10,
   "id": "0be8237b",
   "metadata": {},
   "outputs": [
    {
     "data": {
      "text/plain": [
       "array([[ 5., -7.,  3.],\n",
       "       [-7.,  9., -4.],\n",
       "       [ 3., -4., -6.]])"
      ]
     },
     "execution_count": 10,
     "metadata": {},
     "output_type": "execute_result"
    }
   ],
   "source": [
    "sigma = np.zeros((3,3),float)\n",
    "sigma[0,1] = -7\n",
    "sigma[0,2] = 3\n",
    "sigma[1,2] = -4\n",
    "sigma += sigma.T \n",
    "sigma += np.diag([5,9,-6])\n",
    "sigma"
   ]
  },
  {
   "cell_type": "code",
   "execution_count": 11,
   "id": "4f617a52",
   "metadata": {},
   "outputs": [
    {
     "data": {
      "text/plain": [
       "(array([15.44582956, -0.28008452, -7.16574504]),\n",
       " array([[ 0.58630892, -0.79872908, -0.1351803 ],\n",
       "        [-0.77761665, -0.601688  ,  0.18243874],\n",
       "        [ 0.22705549,  0.00184701,  0.97388007]]))"
      ]
     },
     "execution_count": 11,
     "metadata": {},
     "output_type": "execute_result"
    }
   ],
   "source": [
    "[l,u] = np.linalg.eig(sigma)\n",
    "l,u"
   ]
  },
  {
   "cell_type": "markdown",
   "id": "7f981fd1",
   "metadata": {},
   "source": [
    "Thus, the principal stresses $(\\sigma_i)$ and their corresponding axes' directions $(\\vec a_i)$ (wrt the \"original\" basis) are:\n",
    "\n",
    "$$\\boxed{\\begin{align}\\sigma_I &= 15.446&\\leftrightarrow& &\\vec a_I &= \\begin{bmatrix}0.586\\\\-0.799\\\\-0.135\\end{bmatrix}\\\\\n",
    "\\sigma_{II} &= -0.280&\\leftrightarrow& &\\vec a_{II} &= \\begin{bmatrix}-0.778\\\\-0.602\\\\0.182\\end{bmatrix}\\\\\n",
    "\\sigma_{III} &= -7.166&\\leftrightarrow& &\\vec a_{III} &= \\begin{bmatrix}0.228\\\\0.002\\\\0.974\\end{bmatrix}\\end{align}}$$\n",
    "\n",
    "```{caution}\n",
    "Notice that even though the eigenvectors are the columns of the _u_ matrix, for the principal axes' directions we are reading by the rows. This is due the fact that $\\sigma = u.\\sigma'.u^{-1}$ whereas we are interested in the transformation that transforms $\\sigma$ to $\\sigma'$, which is given by the reciprocal equation: $\\sigma' = u^{-1}.\\sigma.u$. As $u$ is an orthogonal matrix, its inverse is just its transpose.\n",
    "```\n",
    "\n",
    "$\\sigma'$ is the diagonalized form of $\\sigma$, meaning that, when the axes are oriented as such, there is only pure stress along those directions."
   ]
  },
  {
   "cell_type": "code",
   "execution_count": 12,
   "id": "be674494",
   "metadata": {},
   "outputs": [
    {
     "data": {
      "text/plain": [
       "array([[15.44582956,  0.        ,  0.        ],\n",
       "       [ 0.        , -0.28008452,  0.        ],\n",
       "       [ 0.        ,  0.        , -7.16574504]])"
      ]
     },
     "execution_count": 12,
     "metadata": {},
     "output_type": "execute_result"
    }
   ],
   "source": [
    "sigma_p = np.diag(l)\n",
    "sigma_p"
   ]
  },
  {
   "cell_type": "markdown",
   "id": "fbaa3834",
   "metadata": {},
   "source": [
    "So, basically, we have thus transformed our stress tensor into the diagonalized form via:\n",
    "\n",
    "$$\\sigma = u.\\sigma'.u^{-1}$$\n",
    "\n",
    "or in other words:\n",
    "\n",
    "$$\\sigma' = u^{-1}.\\sigma.u$$\n",
    "\n",
    "_(As $u$ is an orthogonal matrix, its inverse is equal to its transpose.)_"
   ]
  },
  {
   "cell_type": "markdown",
   "id": "d4e39aad",
   "metadata": {},
   "source": [
    "### Tensor transformation\n",
    "\n",
    "As the $\\sigma$ tensor transforms according to:\n",
    "\n",
    "$$\\sigma_{ij}' = a_{ik}a_{jm}\\sigma_{km}$$\n",
    "\n",
    "and from the relations above, we see that $a = u^{-1} = u^T$.\n",
    "\n",
    "We can confirm this:"
   ]
  },
  {
   "cell_type": "code",
   "execution_count": 13,
   "id": "7d5235c3",
   "metadata": {},
   "outputs": [
    {
     "name": "stdout",
     "output_type": "stream",
     "text": [
      "[[ 1.54458296e+01 -9.90527105e-16  8.88178420e-16]\n",
      " [-3.81639165e-17 -2.80084518e-01  1.57859836e-16]\n",
      " [ 8.88178420e-16  1.50920942e-16 -7.16574504e+00]]\n",
      "\n",
      "[[15.44582956  0.          0.        ]\n",
      " [ 0.         -0.28008452  0.        ]\n",
      " [ 0.          0.         -7.16574504]]\n"
     ]
    }
   ],
   "source": [
    "sigma_p = np.zeros_like(sigma)\n",
    "a = u.T\n",
    "for i in range(3):\n",
    "    for j in range(3):\n",
    "        for k in range(3):\n",
    "            for m in range(3):\n",
    "                    sigma_p[i,j] += a[i,k]*a[j,m]*sigma[k,m]\n",
    "print(sigma_p)\n",
    "print()\n",
    "# Setting the \"almost-zero\" values (due to numerical calculations)\n",
    "# i.e., the off-diagonal elements, to zero, for clarity:\n",
    "sigma_p[np.isclose(sigma_p,np.zeros((3,3)))] = 0\n",
    "print(sigma_p)"
   ]
  },
  {
   "cell_type": "markdown",
   "id": "e4eaa492",
   "metadata": {},
   "source": [
    "We could have obtained our diagonalized stress tensor via the $\\sigma' = u^{-1}.\\sigma.u$ transformation equation as well:"
   ]
  },
  {
   "cell_type": "code",
   "execution_count": 14,
   "id": "d09106ca",
   "metadata": {},
   "outputs": [
    {
     "name": "stdout",
     "output_type": "stream",
     "text": [
      "[[ 1.54458296e+01 -1.15440341e-15  6.88418459e-16]\n",
      " [-5.45688951e-16 -2.80084518e-01  9.21363052e-17]\n",
      " [ 3.36731558e-16  6.34175583e-17 -7.16574504e+00]]\n",
      "\n",
      "[[15.44582956  0.          0.        ]\n",
      " [ 0.         -0.28008452  0.        ]\n",
      " [ 0.          0.         -7.16574504]]\n"
     ]
    }
   ],
   "source": [
    "sigma_p2 = np.linalg.multi_dot((u.T,sigma,u))\n",
    "print(sigma_p2)\n",
    "\n",
    "print()\n",
    "\n",
    "sigma_p2[np.isclose(sigma_p2,np.zeros((3,3)))] = 0\n",
    "print(sigma_p2)"
   ]
  },
  {
   "cell_type": "markdown",
   "id": "0e2f6cdd",
   "metadata": {},
   "source": [
    "### Further analysis\n",
    "\n",
    "$\\sigma$ being the stress tensor, the following invariants _(as the name suggests, duh!)_ must be the same in any coordinate system:\n",
    "\n",
    "$$\\begin{align}\n",
    "I_1 &= \\sigma_{11}+\\sigma_{22}+\\sigma_{33} = \\sigma_{kk}\\\\\n",
    "I_2 &= \\sigma_{11}\\sigma_{22}+\\sigma_{11}\\sigma_{33}\n",
    "+\\sigma_{22}\\sigma_{33}-\\sigma_{12}^2-\\sigma_{23}^2-\\sigma_{13}^2\n",
    "=\\frac{1}{2}\\left(\\sigma_{ii}\\sigma_{jj}-\\sigma_{ij}\\sigma_{ij}\\right)\\\\\n",
    "I_3 &= \\det\\sigma=\\frac{1}{3}\\sigma_{ij}\\sigma_{jk}\\sigma_{ki}\n",
    "\\end{align}$$\n",
    "\n",
    "and the principal stresses can be found as the roots of the characteristic equation:\n",
    "\n",
    "$$f(\\sigma_p) = \\sigma_p^3-I_1\\sigma_p^2+I_2\\sigma_p-I_3$$\n",
    "\n",
    "[\\[Roylance2001\\]](https://web.mit.edu/course/3/3.11/www/modules/trans.pdf)"
   ]
  },
  {
   "cell_type": "code",
   "execution_count": 15,
   "id": "7418e367",
   "metadata": {},
   "outputs": [],
   "source": [
    "def CalcInvariants(sigma):\n",
    "    I1 = np.trace(sigma)\n",
    "    I2 = sigma[0,0]*sigma[1,1]\\\n",
    "         + sigma[0,0]*sigma[2,2]\\\n",
    "         + sigma[1,1]*sigma[2,2]\\\n",
    "         - sigma[0,1]**2\\\n",
    "         - sigma[1,2]**2\\\n",
    "         - sigma[0,2]**2\n",
    "\n",
    "    # Alternative calculation of I2\n",
    "    # through the Einstein summation\n",
    "    #I2_p1 = I2_p2 = 0\n",
    "    #for i in range(3):\n",
    "    #    for j in range(3):\n",
    "    #        I2_p1 += sigma[i,i]*sigma[j,j]\n",
    "    #        I2_p2 += sigma[i,j]**2\n",
    "    #I2 = 0.5*(I2_p1 - I2_p2)\n",
    "    \n",
    "    I3 = np.linalg.det(sigma)\n",
    "    return np.round((I1,I2,I3),3)"
   ]
  },
  {
   "cell_type": "markdown",
   "id": "32783a1a",
   "metadata": {},
   "source": [
    "* Invariants from our original $\\sigma$:"
   ]
  },
  {
   "cell_type": "code",
   "execution_count": 16,
   "id": "3a0b6093",
   "metadata": {},
   "outputs": [
    {
     "data": {
      "text/plain": [
       "array([   8., -113.,   31.])"
      ]
     },
     "execution_count": 16,
     "metadata": {},
     "output_type": "execute_result"
    }
   ],
   "source": [
    "CalcInvariants(sigma)"
   ]
  },
  {
   "cell_type": "markdown",
   "id": "c68fb3ed",
   "metadata": {},
   "source": [
    "* Invariants from our diagonalized $\\sigma'$:"
   ]
  },
  {
   "cell_type": "code",
   "execution_count": 17,
   "id": "4a8777c4",
   "metadata": {},
   "outputs": [
    {
     "data": {
      "text/plain": [
       "array([   8., -113.,   31.])"
      ]
     },
     "execution_count": 17,
     "metadata": {},
     "output_type": "execute_result"
    }
   ],
   "source": [
    "CalcInvariants(sigma_p)"
   ]
  },
  {
   "cell_type": "markdown",
   "id": "328d9276",
   "metadata": {},
   "source": [
    "Finding the roots of the characteristic equation once again yields the principal stresses."
   ]
  },
  {
   "cell_type": "code",
   "execution_count": 18,
   "id": "84d1b611",
   "metadata": {},
   "outputs": [
    {
     "data": {
      "text/plain": [
       "array([15.44582956, -7.16574504, -0.28008452])"
      ]
     },
     "execution_count": 18,
     "metadata": {},
     "output_type": "execute_result"
    }
   ],
   "source": [
    "(I1,I2,I3) = CalcInvariants(sigma)\n",
    "np.roots([1,-I1,I2,-I3])"
   ]
  },
  {
   "cell_type": "markdown",
   "id": "0f845c06",
   "metadata": {},
   "source": [
    "For the principal axes' directions _-if we ever forgot that they are derived from the eigenvectors of the $\\sigma$-_ we can use the following equations (not surprisingly) derived from:\n",
    "\n",
    "$$\\begin{align}\\sigma .\\vec u_i &= \\sigma_i. \\sigma\\\\\n",
    "\\begin{bmatrix}\\sigma_{11} & \\sigma_{12} & \\sigma_{13} \\\\\n",
    "\\sigma_{21} & \\sigma_{22} & \\sigma_{23} \\\\\n",
    "\\sigma_{31} & \\sigma_{32} & \\sigma_{33} \\end{bmatrix} \n",
    "\\underbrace{\\begin{bmatrix}u_{1i}\\\\ u_{2i}\\\\ u_{3i}\\end{bmatrix}}_{\\vec u_i} &= \\sigma_i \\begin{bmatrix}u_{1i}\\\\ u_{2i}\\\\ u_{3i}\\end{bmatrix}\\end{align}$$\n",
    "\n",
    "This translates to:\n",
    "\n",
    "$$(\\sigma - \\sigma_i \\mathbb{1}) = \\mathbb{0}$$\n",
    "\n",
    "and from here we can derive the first two following equations (with the third from derived from the normalization condition):\n",
    "\n",
    "$$\\begin{gather}(\\sigma_{11}u_{1i}-\\sigma_i)+\\sigma_{12}u_{2i}+\\sigma_{13}u_{3i} = 0\\\\\n",
    "\\sigma_{21}u_{1i}+(\\sigma_{22}-\\sigma_i)u_{2i}+\\sigma_{23}u_{3i} = 0\\\\\n",
    "u_{1i}^2 + u_{2i}^2 +u_{3i}^2 = 1\n",
    "\\end{gather}$$\n",
    "\n",
    "[\\[Lagace2008\\]](https://web.mit.edu/16.unified/www/FALL/materials/Lectures/M2.4-Unified08.pdf)\n",
    "\n",
    "Implemented code follows (we're using [`fsolve`](https://docs.scipy.org/doc/scipy/reference/generated/scipy.optimize.fsolve.html) to solve the non-linear equations set):"
   ]
  },
  {
   "cell_type": "code",
   "execution_count": 19,
   "id": "07d79a18",
   "metadata": {},
   "outputs": [],
   "source": [
    "def eqns(p,S_i):\n",
    "    (u_i1,u_i2,u_i3) = p\n",
    "    eqn1 = (sigma[0,0]-S_i)*u_i1 + sigma[0,1]*u_i2 + sigma[0,2]*u_i3\n",
    "    eqn2 = sigma[0,1]*u_i1 + (sigma[1,1]-S_i)*u_i2 + sigma[1,2]*u_i3\n",
    "    eqn3 = u_i1**2 + u_i2**2 + u_i3**2 - 1\n",
    "    #eqn4 = sigma[0,2]*u_i1 + sigma[1,2]*u_i2 + (sigma[2,2] - S_i)*u_i3\n",
    "    return (eqn1,eqn2,eqn3)"
   ]
  },
  {
   "cell_type": "code",
   "execution_count": 20,
   "id": "5364e1e9",
   "metadata": {},
   "outputs": [
    {
     "name": "stdout",
     "output_type": "stream",
     "text": [
      "Principle Stresses:\n",
      "[15.44582956 -0.28008452 -7.16574504]\n",
      "-=-=-=-=-=-=-=-=-=-=-=-=-=-=-=-=-=-=-=-=\n",
      "Principle Axes (read in columns):\n",
      "[-0.58630892  0.77761665 -0.22705549]\n",
      "[ 0.79872908  0.601688   -0.00184701]\n",
      "[-0.1351803   0.18243874  0.97388007]\n"
     ]
    }
   ],
   "source": [
    "# we already have the principle stresses\n",
    "# (either from the eigenvalues or \n",
    "# from the roots of the characteristics equation)\n",
    "\n",
    "print(\"Principle Stresses:\")\n",
    "print(l)\n",
    "\n",
    "print(\"-=\"*20)\n",
    "\n",
    "print(\"Principle Axes (read in columns):\")\n",
    "for SS_i in l:\n",
    "    psol = fsolve(eqns,(1,2,3),args=SS_i)\n",
    "    print(psol)"
   ]
  },
  {
   "cell_type": "markdown",
   "id": "fafaf739",
   "metadata": {},
   "source": [
    "```{note}\n",
    "In the above output, the $u_i$ are presented in rows, hence, by printing them line after line, the $a_i$ directions present themselves in columns ;)\n",
    "```"
   ]
  },
  {
   "cell_type": "markdown",
   "id": "eed1f51c",
   "metadata": {},
   "source": [
    "## References\n",
    "* **Lagace2008**: Paul A. Lagace, \"Stress and Strain Transformations\", [Materials and Structures Course](https://web.mit.edu/16.unified/www/FALL/materials/index.html) (2.4) MIT OCW [link](https://web.mit.edu/16.unified/www/FALL/materials/Lectures/M2.4-Unified08.pdf)\n",
    "* **Nye1985**: Nye, John Frederick. _Physical properties of crystals: their representation by tensors and matrices._ Oxford university press, 1985.\n",
    "* **Roylance2001**: David Roylance, \"Transformation of Stresses and Strains\", [Mechanics of Materials Course](https://ocw.mit.edu/courses/3-11-mechanics-of-materials-fall-1999/pages/modules/) (3.11) MIT OCW [link](https://web.mit.edu/course/3/3.11/www/modules/trans.pdf)"
   ]
  }
 ],
 "metadata": {
  "jupytext": {
   "formats": "ipynb,md:myst",
   "text_representation": {
    "extension": ".md",
    "format_name": "myst",
    "format_version": 0.13,
    "jupytext_version": "1.11.5"
   }
  },
  "kernelspec": {
   "display_name": "Python 3 (ipykernel)",
   "language": "python",
   "name": "python3"
  },
  "language_info": {
   "codemirror_mode": {
    "name": "ipython",
    "version": 3
   },
   "file_extension": ".py",
   "mimetype": "text/x-python",
   "name": "python",
   "nbconvert_exporter": "python",
   "pygments_lexer": "ipython3",
   "version": "3.8.5"
  },
  "source_map": [
   13,
   24,
   28,
   36,
   52,
   60,
   67,
   74,
   80,
   91,
   100,
   106,
   111,
   114,
   122,
   141,
   144,
   158,
   184,
   200,
   223,
   240,
   250,
   253,
   267,
   270,
   282,
   294,
   308,
   312,
   320,
   340,
   361,
   365,
   367,
   371,
   373,
   377,
   380,
   405,
   415,
   429,
   435
  ]
 },
 "nbformat": 4,
 "nbformat_minor": 5
}