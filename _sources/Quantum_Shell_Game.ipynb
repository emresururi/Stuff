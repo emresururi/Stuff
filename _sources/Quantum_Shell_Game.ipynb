{
 "cells": [
  {
   "cell_type": "markdown",
   "id": "55fa4031",
   "metadata": {},
   "source": [
    "# Quantum Shell Game\n",
    "\n",
    "Dr. Emre S. Tasci, emre.tasci@hacettepe.edu.tr  \n",
    "Dept. Eng. Physics  \n",
    "Hacettepe University  \n",
    "Ankara / Turkey\n",
    "\n",
    "June 2024"
   ]
  },
  {
   "cell_type": "code",
   "execution_count": 1,
   "id": "048d6c37",
   "metadata": {},
   "outputs": [],
   "source": [
    "import numpy as np\n",
    "import scipy.optimize as opt\n",
    "import matplotlib.pyplot as plt"
   ]
  },
  {
   "cell_type": "markdown",
   "id": "3ffacbfb",
   "metadata": {},
   "source": [
    "$$\\newcommand{\\ket}[1]{\\left|{#1}\\right\\rangle}\n",
    "\\newcommand{\\bra}[1]{\\left\\langle{#1}\\right|}\n",
    "\\newcommand{\\braket}[2]{\\left\\langle{#1}\\middle|{#2}\\right\\rangle}$$\n",
    "\n",
    "\n",
    "## Rules & Nomenclature\n",
    "\n",
    "In this shell game, we have 3 cards, faces down, arranged as Left (L), Middle (M) and Right (R). Their ranks & suits don't matter but their color do (either Black (B) or Red (R)) _(now that it has been put to writing, it is obvious that the cards could be just colored cars! 8P)_. The player wins if their pick matches one of the following pairs:\n",
    "\n",
    "* LM or RM different colors\n",
    "* LR same color\n",
    "\n",
    "So in summary, for the player to win, if one of the picked cards is the middle one, the other's color (L/R) should be different; and if the middle one is not picked, then the picked cards (L&R) must be of the same color.\n",
    "\n",
    "As a twist to the contrary games, in this case we will not be the player but the casino/house. 8)\n",
    "\n",
    "So, our conditions for winning are the opposite -- we (the house) win when:\n",
    "\n",
    "* LM or RM same color\n",
    "* LR different colors\n",
    "\n",
    "As there are 3 cards and 2 possibilities for each card, a round will be one of the following $2^3=8$ cases:\n",
    "\n",
    "|#|L|M|R|House Wins On|Player Wins On|\n",
    "|---|---|---|---|---|---|\n",
    "|1|B|B|B|LM,RM|LR|\n",
    "|2|B|B|R|LR,LM|RM|\n",
    "|3|B|R|B|---|LM,RM,LR|\n",
    "|4|B|R|R|LR,RM|LM|\n",
    "|5|R|B|B|LR,RM|LM|\n",
    "|6|R|B|R|---|LM,RM,LR|\n",
    "|7|R|R|B|LR,LM|RM|\n",
    "|8|R|R|R|LM,RM|LR|\n",
    "\n",
    "As the game is set & served by the casino (us), they remove the two 100% lose cases (#3 & #6) so the player is limited to the remaining 6.\n",
    "\n",
    "Checking the situation now, it can be seen that, in each case, the casino has a 2/3 chance of winning while the player has only 1/3. To level the playing field, the stakes are fixed such as:\n",
    "\n",
    "* If the player wins, house pays \\$2\n",
    "* If the house wins, player pays \\$1\n",
    "\n",
    "so the game is now fair with respect to expected pay-offs:\n",
    "\n",
    "$$\\underbrace{\\$2\\times\\frac{1}{3}}_{\\text{Player's}} = \\underbrace{\\$1\\times\\frac{2}{3}}_{\\text{Casino's}} = \\$0.6\\bar6$$"
   ]
  },
  {
   "cell_type": "markdown",
   "id": "03ac8801",
   "metadata": {},
   "source": [
    "### Simulation of a run of games"
   ]
  },
  {
   "cell_type": "code",
   "execution_count": 2,
   "id": "3f84362f",
   "metadata": {},
   "outputs": [
    {
     "name": "stdout",
     "output_type": "stream",
     "text": [
      "Total # of player wins: 33429\n",
      "Ratio: 33429/100000 = 0.33429\n",
      "Player's average pay-off: $0.66858\n",
      "Casino's average pay-off: $0.66571\n"
     ]
    }
   ],
   "source": [
    "N = (int)(1E5)\n",
    "\n",
    "sets = np.array([[\"B\",\"B\",\"B\"],\n",
    "                 [\"B\",\"B\",\"R\"],\n",
    "                 [\"B\",\"R\",\"R\"],\n",
    "                 [\"R\",\"B\",\"B\"],\n",
    "                 [\"R\",\"R\",\"B\"],\n",
    "                 [\"R\",\"R\",\"R\"]\n",
    "                ])\n",
    "\n",
    "num_player_wins = 0\n",
    "\n",
    "table = {}\n",
    "for i in range(N):\n",
    "    # house sets the table\n",
    "    table_no = np.random.randint(6)\n",
    "    (table[\"L\"],table[\"M\"],table[\"R\"]) = sets[table_no]\n",
    "    #print(\"{:s} | {:s} | {:s}\".format(table[\"L\"],table[\"M\"],table[\"R\"]))\n",
    "    \n",
    "    # player picks two cards at random\n",
    "    (C1,C2) = np.random.choice([\"L\",\"M\",\"R\"],2,replace=False)\n",
    "    #print(C1,C2)\n",
    "    \n",
    "    if((C1 == \"M\") | (C2 == \"M\")):\n",
    "        if(table[C1] != table[C2]):\n",
    "            # Player wins\n",
    "            num_player_wins += 1\n",
    "            #print(\"Player wins!\")\n",
    "        #else:\n",
    "            # House wins\n",
    "            #print(\"House wins!\")\n",
    "\n",
    "    else:\n",
    "        if(table[C1] == table[C2]):\n",
    "            # Player wins\n",
    "            num_player_wins += 1\n",
    "            #print(\"Player wins!\")\n",
    "        #else:\n",
    "            # House wins\n",
    "            #print(\"House wins!\")\n",
    "            \n",
    "    #print(\"-\"*30)\n",
    "\n",
    "num_house_wins = N - num_player_wins\n",
    "\n",
    "print(\"Total # of player wins: {:d}\".format(num_player_wins))\n",
    "print(\"Ratio: {:d}/{:d} = {:.5f}\".format(num_player_wins,N,\n",
    "                                         num_player_wins/N))\n",
    "print(\"Player's average pay-off: ${:.5f}\".format(2*num_player_wins/N))\n",
    "print(\"Casino's average pay-off: ${:.5f}\".format(num_house_wins/N))"
   ]
  },
  {
   "cell_type": "markdown",
   "id": "2240aa36",
   "metadata": {},
   "source": [
    "## The Game\n",
    "\n",
    "Now, here comes the unusual part: The player can pick any two card they please alas, instead of revealing the cards, the dealer (working for the casino) just announces their color. Naturally, the player can't trust the dealer, so the casino comes up with this solution and proposes it to the player:\n",
    "\n",
    "We will set up the table in two identical rooms and there will be no communication between the dealers of each room (let's call them Alice and Bob). You will pick one card from room #1 and another from #2. To ensure that the setups are the same, you can call the same card in both rooms: as is ensured, you will observe that they will always be announced as being of the same color. If, for even one time, your call of the same card is returned with different answers from the dealers, that shows that we were cheating and you'll be paid $1 million (/gazillion dollars, or the universe -- you name it).\n",
    "\n",
    "```{warning}\n",
    "Don't forget that Alice and Bob are dealers, not players (and they work for the casino, i.e., us).\n",
    "```"
   ]
  },
  {
   "cell_type": "markdown",
   "id": "ffa09b09",
   "metadata": {},
   "source": [
    "## Measurement\n",
    "\n",
    "Since polarization is nothing but the changing of the basis, $R_\\theta$ is defined as:\n",
    "\n",
    "$$R_\\theta=\\begin{pmatrix}\\cos\\theta&-\\sin\\theta\\\\\\sin\\theta&\\cos\\theta\\end{pmatrix}\\rightarrow\\left\\{ \\begin{array}{l}\n",
    "R_{30^o}=\\begin{pmatrix}\\frac{\\sqrt{3}}{{2}}&-\\frac{1}{{2}}\\\\\\frac{1}{{2}}&\\frac{\\sqrt{3}}{{2}}\\end{pmatrix}\\\\\n",
    "R_{0}=\\begin{pmatrix}1&0\\\\0&1\\end{pmatrix}\\\\\n",
    "R_{-30^o}=\\begin{pmatrix}\\frac{\\sqrt{3}}{{2}}&\\frac{1}{{2}}\\\\-\\frac{1}{{2}}&\\frac{\\sqrt{3}}{{2}}\\end{pmatrix}\n",
    "\\end{array}\\right.$$\n",
    "\n",
    "and its effect on kets $\\ket 0$ and $\\ket 1$ are:\n",
    "\n",
    "$$\\begin{array}{l}\n",
    "R_\\theta\\ket 0 = \\begin{pmatrix}\\cos\\theta&-\\sin\\theta\\\\\\sin\\theta&\\cos\\theta\\end{pmatrix}\\begin{pmatrix}1\\\\0\\end{pmatrix}=\\begin{pmatrix}\\cos\\theta\\\\\\sin\\theta\\end{pmatrix}=\\cos\\theta\\ket 0 + \\sin\\theta\\ket 1\\\\\n",
    "R_\\theta\\ket 1 = \\begin{pmatrix}\\cos\\theta&-\\sin\\theta\\\\\\sin\\theta&\\cos\\theta\\end{pmatrix}\\begin{pmatrix}0\\\\1\\end{pmatrix}=\\begin{pmatrix}\\cos\\theta\\\\-\\sin\\theta\\end{pmatrix}=-\\sin\\theta\\ket 0 + \\cos\\theta\\ket 1\n",
    "\\end{array}$$\n",
    "\n",
    "Alice and Bob utilize the following entangled state:\n",
    "\n",
    "$$\\ket{\\Psi} = \\frac{1}{\\sqrt{2}}\\left(\\ket{00} + \\ket{11}\\right)$$\n",
    "\n",
    "Here, $\\ket 0$ state corresponds to calling \"red\", and $\\ket 1$ state corresponds to calling \"black\".\n",
    "\n",
    "We can represent the actions of Alice and Bob on their entangled state $\\ket \\Psi$ as:\n",
    "\n",
    "\n",
    "\n",
    "$$\\begin{align}\n",
    "&\\left(R_{\\theta_A}\\otimes R_{\\theta_B}\\right)\\ket \\Psi\n",
    "=\\left(R_{\\theta_A}\\otimes R_{\\theta_B}\\right)\\left[\\frac{1}{\\sqrt 2}\\left(\\ket{00}+\\ket{11}\\right)\\right]\\\\\n",
    "&=\\frac{1}{\\sqrt 2}\\left[\\left(R_{\\theta_A}\\ket{0}\\otimes R_{\\theta_B}\\ket{0}\\right)+\\left(R_{\\theta_A}\\ket{1}\\otimes R_{\\theta_B}\\ket{1}\\right)\\right]\\\\\n",
    "&=\\frac{1}{\\sqrt 2}\\left[\\begin{matrix}\\left(\\cos\\theta_A\\ket0+\\sin\\theta_A\\ket1\\right)\\otimes\\left(\\cos\\theta_B\\ket0+\\sin\\theta_B\\ket1\\right)\\\\\n",
    "+\\left(-\\sin\\theta_A\\ket0+\\cos\\theta_A\\ket1\\right)\\otimes\\left(-\\sin\\theta_B\\ket0+\\cos\\theta_B\\ket1\\right)\\end{matrix}\\right]\\\\\n",
    "&=\\frac{1}{\\sqrt 2}\\left[\\begin{matrix}\\left(\n",
    "\\cos\\theta_A\\cos\\theta_B\\ket{00}+\\cos\\theta_A\\sin\\theta_B\\ket{01}\n",
    "+\\sin\\theta_A\\cos\\theta_B\\ket{10}+\\sin\\theta_A\\sin\\theta_B\\ket{11}\n",
    "\\right)\\\\\n",
    "\\left(\n",
    "\\sin\\theta_A\\sin\\theta_B\\ket{00}-\\sin\\theta_A\\cos\\theta_B\\ket{01}\n",
    "-\\cos\\theta_A\\sin\\theta_B\\ket{10}+\\cos\\theta_A\\cos\\theta_B\\ket{11}\n",
    "\\right)\\end{matrix}\\right]\\\\\n",
    "&=\\frac{1}{\\sqrt 2}\\left[\\begin{matrix}\n",
    " \\left(\\cos\\theta_A\\cos\\theta_B+\\sin\\theta_A\\sin\\theta_B\\right)\\ket{00}\\\\\n",
    "+\\left(\\cos\\theta_A\\sin\\theta_B-\\sin\\theta_A\\cos\\theta_B\\right)\\ket{01}\\\\\n",
    "+\\left(\\sin\\theta_A\\cos\\theta_B-\\cos\\theta_A\\sin\\theta_B\\right)\\ket{10}\\\\\n",
    "+\\left(\\sin\\theta_A\\sin\\theta_B-\\cos\\theta_A\\cos\\theta_B\\right)\\ket{11}\n",
    "\\end{matrix}\\right]\n",
    "=\\frac{1}{\\sqrt 2}\\left[\\begin{matrix}\n",
    " \\cos(\\theta_A-\\theta_B)\\ket{00}\\\\\n",
    "-\\sin(\\theta_A-\\theta_B)\\ket{01}\\\\\n",
    "+\\sin(\\theta_A-\\theta_B)\\ket{10}\\\\\n",
    "+\\cos(\\theta_A-\\theta_B)\\ket{11}\n",
    "\\end{matrix}\\right]\n",
    "=\\frac{1}{\\sqrt 2}\\left[\\begin{matrix}\n",
    " \\cos(\\Delta)\\ket{00}\\\\\n",
    "-\\sin(\\Delta)\\ket{01}\\\\\n",
    "+\\sin(\\Delta)\\ket{10}\\\\\n",
    "+\\cos(\\Delta)\\ket{11}\n",
    "\\end{matrix}\\right]\n",
    "\\end{align}\n",
    "$$\n",
    "\n",
    "As can be seen, the probabilities depend on the **difference** of Alice and Bob's polarization angles $(\\Delta = \\theta_A - \\theta_B)$. Also, as the probability is the square of the state in question's coefficent, the sign doesn't matter so $\\Delta$ will yield the same probability as that of $(-\\Delta)$ for the $\\sin$ cases (it has already been taken care of in $\\cos$ cases due to $\\cos$ being an even function ;). Thus for any predefined $\\theta_A$, $\\theta_B$ and hence $\\Delta$, the probability of Alice and Bob calling the cards the same color will be $\\cos^2(\\Delta)$ and different will be $\\sin^2(\\Delta)$. The probabilities of Alice and Bob observing the $\\ket 0, \\ket 1$ states and calling (red if $\\ket 0$ is observed, black if $\\ket 1$) colors are given as:\n",
    "\n",
    "|State|Probability|Alice Calls|Bob Calls|Result|\n",
    "|---|----|---|---|---|\n",
    "|$\\ket{00}$|$\\tfrac{1}{2}\\cos^2(\\Delta)$|Red|Red|Same|\n",
    "|$\\ket{01}$|$\\tfrac{1}{2}\\sin^2(\\Delta)$|Red|Black|Different|\n",
    "|$\\ket{10}$|$\\tfrac{1}{2}\\sin^2(\\Delta)$|Black|Red|Different|\n",
    "|$\\ket{11}$|$\\tfrac{1}{2}\\cos^2(\\Delta)$|Black|Black|Same|"
   ]
  },
  {
   "cell_type": "markdown",
   "id": "9d092ad1",
   "metadata": {},
   "source": [
    "## The \"Actual\" Quantum Setup\n",
    "Alice and Bob agree on the following strategy beforehand:\n",
    "\n",
    "|Dealer|Player Chooses|Set polarization to:|Measure|if 0, call:|if 1, call|\n",
    "|---|---|---|---|---|---|\n",
    "| |L|+30<sup>o</sup>|&rarr;|Red|Black|\n",
    "|**Alice**|M|0|&rarr;|Red|Black|\n",
    "| |R|-30<sup>o</sup>|&rarr;|Red|Black|\n",
    "|<hr>|\n",
    "| |L|+30<sup>o</sup>|&rarr;|Red|Black|\n",
    "|**Bob**|M|0|&rarr;|Red|Black|\n",
    "| |R|-30<sup>o</sup>|&rarr;|Red|Black|\n",
    "\n",
    "* If the player picks the same card in both rooms (to check the honesty of the game), as $\\theta_A=\\theta_B\\rightarrow \\Delta=0$, the probability that they will measure the same value $(\\ket{00}$ or $\\ket{11})$ is $\\cos^2(0)=1=100\\%$, so it is guaranteed that Both Alice and Bob will call \"Red\" (if it is $\\ket{00}$) or \"Black\" (if it is $\\ket{11}$) in unison, dispersing any doubts about cheating.\n",
    "\n",
    "* If the player picks the middle card as one of the cards, then $\\Delta=30^o$ and the probability of picking the same colored card will be:\n",
    "  \n",
    "  $$\\cos^2(30^o) = \\left(\\frac{\\sqrt 3}{2}\\right)^2 = \\frac{3}{4} = 75\\%\\quad\\text{(House wins)}$$\n",
    "  \n",
    "  and the probability of the picked cards being of different colors will be:\n",
    "  \n",
    "  $$\\sin^2(30^o) = \\left(\\frac{1}{2}\\right)^2 = \\frac{1}{4} = 25\\%\\quad\\text{(Player wins)}$$\n",
    "\n",
    "* If the player picks the edge cards (LR), this will result in $\\Delta=60^o$ so the probability of picking the same colored card will be equal to:\n",
    "  \n",
    "  $$\\cos^2(60^o) = \\left(\\frac{1}{2}\\right)^2 = \\frac{1}{4} = 25\\%\\quad\\text{(Player wins)}$$\n",
    "  \n",
    "  whereas the probability of the picked cards being of different colors will be: \n",
    "  \n",
    "  $$\\sin^2(60^o) = \\left(\\frac{\\sqrt 3}{2}\\right)^2 = \\frac{3}{4} = 75\\%\\quad\\text{(House wins)}$$\n",
    "\n",
    "So we see that, instead of the classical edge of $\\frac{2}{3}$, the casino actually benefits from a $\\frac{3}{4}$ chance of winning. The expected pay-offs for the player and the casino, respectively, are now:\n",
    "\n",
    "* Player: $\\$2\\times\\frac{1}{4} = \\$0.50$\n",
    "* Casino: $\\$1\\times\\frac{3}{4} = \\$0.75$\n",
    "\n",
    "As opposed to the classical one that the player thinks they are in (Casino = Player = $0.66)"
   ]
  },
  {
   "cell_type": "markdown",
   "id": "610fd103",
   "metadata": {},
   "source": [
    "### Simulation of a run of games"
   ]
  },
  {
   "cell_type": "code",
   "execution_count": 3,
   "id": "7a8f201e",
   "metadata": {},
   "outputs": [
    {
     "name": "stdout",
     "output_type": "stream",
     "text": [
      "Total # of player wins: 25177\n",
      "Ratio: 25177/100000 = 0.25177\n",
      "Player's average pay-off: $0.50354\n",
      "Casino's average pay-off: $0.74823\n"
     ]
    }
   ],
   "source": [
    "N = (int)(1E5)\n",
    "\n",
    "theta = np.deg2rad(30)\n",
    "\n",
    "num_player_wins = 0\n",
    "\n",
    "table = {}\n",
    "for i in range(N):\n",
    "    # player picks two cards at random\n",
    "    (C1,C2) = np.random.choice([\"L\",\"M\",\"R\"],2,replace=False)\n",
    "    #print(C1,C2)\n",
    "    \n",
    "    flag_M = False\n",
    "    \n",
    "    if((C1 == \"M\") | (C2 == \"M\")):\n",
    "        Delta = theta\n",
    "        flag_M = True\n",
    "    else:\n",
    "        Delta = 2*theta\n",
    "    \n",
    "    prob_same = np.cos(Delta)**2\n",
    "    if(np.random.rand()<prob_same):\n",
    "        cond = \"same\"\n",
    "    else:\n",
    "        cond = \"different\"\n",
    "    \n",
    "    if(((not flag_M) & (cond == \"same\")) | ((flag_M) & (cond == \"different\"))):\n",
    "        num_player_wins += 1\n",
    "    \n",
    "num_house_wins = N - num_player_wins\n",
    "\n",
    "print(\"Total # of player wins: {:d}\".format(num_player_wins))\n",
    "print(\"Ratio: {:d}/{:d} = {:.5f}\".format(num_player_wins,N,\n",
    "                                         num_player_wins/N))\n",
    "print(\"Player's average pay-off: ${:.5f}\".format(2*num_player_wins/N))\n",
    "print(\"Casino's average pay-off: ${:.5f}\".format(num_house_wins/N))"
   ]
  },
  {
   "cell_type": "markdown",
   "id": "d0b199f8",
   "metadata": {},
   "source": [
    "### Is 30<sup>o</sup> optimal?\n",
    "\n",
    "Due to the \"honesty\" checks, when the picked cards in the rooms are the same, they should be called in the same color, meaning that $\\cos^2(\\Delta) = 1$, thus $\\Delta = \\theta_A - \\theta_B = 0\\rightarrow \\theta_A=\\theta_B$."
   ]
  },
  {
   "cell_type": "markdown",
   "id": "d28689b4",
   "metadata": {},
   "source": [
    "|Player picks|Prob. Same|Prob. Diff|Player Win Prob.|House Win Prob.|\n",
    "|---|---|---|---|---|\n",
    "|LR|$\\cos^2(2\\theta)$|$\\sin^2(2\\theta)$|$\\cos^2(2\\theta)$|$\\sin^2(2\\theta)$|\n",
    "|{L,R}M|$\\cos^2(\\theta)$|$\\sin^2(\\theta)$|$\\sin^2(\\theta)$|$\\cos^2(\\theta)$|\n",
    "\n",
    "We want to find the $\\theta$ value that maximizes the expected pay-off for the house:\n",
    "\n",
    "$$\\frac{1}{3}\\sin^2(2\\theta) + \\frac{2}{3}\\cos^2(\\theta)$$\n",
    "\n",
    "or, in other terms, the value that minimizes the expected pay-off for the player:\n",
    "\n",
    "$$\\frac{1}{3}\\cos^2(2\\theta) + \\frac{2}{3}\\sin^2(\\theta)$$\n",
    "\n",
    "(As the player picks two card out of three, there is a 1/3 chance that it will be \"L & R\" and 2/3 chance that one of the cards will be \"M\")"
   ]
  },
  {
   "cell_type": "code",
   "execution_count": 4,
   "id": "3e783977",
   "metadata": {},
   "outputs": [],
   "source": [
    "def f(theta_deg):\n",
    "    theta = np.deg2rad(theta_deg)\n",
    "    return (np.cos(2*theta)**2+2*np.sin(theta)**2)/3"
   ]
  },
  {
   "cell_type": "code",
   "execution_count": 5,
   "id": "1070d96c",
   "metadata": {},
   "outputs": [
    {
     "name": "stdout",
     "output_type": "stream",
     "text": [
      "     fun: 0.24999999999999997\n",
      "    nfev: 27\n",
      "     nit: 18\n",
      " success: True\n",
      "       x: 29.999999895933797\n"
     ]
    }
   ],
   "source": [
    "res = opt.minimize_scalar(f,bounds=[0,180],\n",
    "                          tol=1E-12)\n",
    "print(res)"
   ]
  },
  {
   "cell_type": "markdown",
   "id": "fd03f7cf",
   "metadata": {},
   "source": [
    "Plotting player's expected pay-off graph reveals two things:"
   ]
  },
  {
   "cell_type": "code",
   "execution_count": 6,
   "id": "9457598b",
   "metadata": {},
   "outputs": [
    {
     "data": {
      "image/png": "[encoded data removed]",
      "text/plain": [
       "<Figure size 432x288 with 1 Axes>"
      ]
     },
     "metadata": {
      "filenames": {
       "image/png": "/stmp/code/books/Stuff/_build/jupyter_execute/Quantum_Shell_Game_15_0.png"
      },
      "needs_background": "light"
     },
     "output_type": "display_data"
    }
   ],
   "source": [
    "theta = np.linspace(0,180,500)\n",
    "plt.plot(theta,f(theta),\"b-\")\n",
    "plt.xticks(np.arange(0,181,30))\n",
    "plt.title(r\"Player Win Prob. vs. $\\theta$\")\n",
    "plt.xlabel(r\"$\\theta$ (deg)\")\n",
    "plt.ylabel(\"Win Probability\")\n",
    "plt.show()"
   ]
  },
  {
   "cell_type": "markdown",
   "id": "d4f4e21b",
   "metadata": {},
   "source": [
    "First of all, we observe that there are 3 extremum points: at $\\theta = 30^o,90^o,150^o$, so $30^o$ is indeed an optimal value for the casino.\n",
    "\n",
    "More importantly, we see that for $\\theta=90^o$, we have a maximum at 1! This means that, no matter which cards the player picks, we (the house) can always ensure that they win!\n",
    "\n",
    "_But why would we want that?!.._ 8)\n",
    "\n",
    "## Alternative rules & strategy\n",
    "\n",
    "As the casino, we could have alternatively put out a reciprocal set of rules:\n",
    "\n",
    "Player wins when:\n",
    "\n",
    "* LM or RM: same color\n",
    "* LR: different colors\n",
    "\n",
    "Remember the chart of possible games?\n",
    "\n",
    "\n",
    "|#|L|M|R|Player Wins On|House Wins On|\n",
    "|---|---|---|---|---|---|\n",
    "|1|B|B|B|LM,RM|LR|\n",
    "|2|B|B|R|LR,LM|RM|\n",
    "|3|B|R|B|---|LM,RM,LR|\n",
    "|4|B|R|R|LR,RM|LM|\n",
    "|5|R|B|B|LR,RM|LM|\n",
    "|6|R|B|R|---|LM,RM,LR|\n",
    "|7|R|R|B|LR,LM|RM|\n",
    "|8|R|R|R|LM,RM|LR|"
   ]
  },
  {
   "cell_type": "markdown",
   "id": "5fc46d0f",
   "metadata": {},
   "source": [
    "Now, imagine that inviting a player to play with these rules, taking out the two cases (3rd and 6th) where we (the casino/house) are guarenteed to win. With this modification, the player's classical winning chances are 2/3 to our 1/3. We don't even level the field.\n",
    "\n",
    "Here is how we train our croupiers Alice & Bob:\n",
    "\n",
    "|Dealer|Player Chooses|Set polarization to:|Measure|if 0, call:|if 1, call|\n",
    "|---|---|---|---|---|---|\n",
    "| |L|+90<sup>o</sup>|&rarr;|Red|Black|\n",
    "|**Alice**|M|0|&rarr;|Red|Black|\n",
    "| |R|-90<sup>o</sup>|&rarr;|Red|Black|\n",
    "|<hr>|\n",
    "| |L|+90<sup>o</sup>|&rarr;|Red|Black|\n",
    "|**Bob**|M|0|&rarr;|Red|Black|\n",
    "| |R|-90<sup>o</sup>|&rarr;|Red|Black|"
   ]
  },
  {
   "cell_type": "markdown",
   "id": "be8e8e75",
   "metadata": {},
   "source": [
    "$$\\left(R_{\\theta_A}\\otimes R_{\\theta_B}\\right)\\ket \\Psi\n",
    "=\\frac{1}{\\sqrt 2}\\left[\\begin{matrix}\n",
    " \\cos(\\Delta)\\ket{00}\n",
    "-\\sin(\\Delta)\\ket{01}\\\\\n",
    "+\\sin(\\Delta)\\ket{10}\n",
    "+\\cos(\\Delta)\\ket{11}\n",
    "\\end{matrix}\\right]$$"
   ]
  },
  {
   "cell_type": "markdown",
   "id": "9473c9a4",
   "metadata": {},
   "source": [
    "with $\\theta_A = \\theta_B = 90^o$, we have:\n",
    "\n",
    "* If the player picks the same card in both rooms (to check the honesty of the game), as $\\theta_A=\\theta_B\\rightarrow \\Delta=0$, the probability that they will measure the same value $(\\ket{00}$ or $\\ket{11})$ is $\\cos^2(0)=1=100\\%$, so it is guaranteed that Alice and Bob will both call \"Red\" (if it is $\\ket{00}$) or \"Black\" (if it is $\\ket{11}$) in unison, dispersing any doubts about cheating.\n",
    "\n",
    "* If the player picks the middle card as one of the cards, then $\\Delta=90^o$ and the probability of picking the same colored card will be:\n",
    "  \n",
    "  $$\\cos^2(90^o) = 0\\quad\\text{(Player can never win)}$$\n",
    "  \n",
    "  and the probability of the picked cards being of different colors will be:\n",
    "  \n",
    "  $$\\sin^2(90^o) = 1 = 100\\% \\quad\\text{(House always wins)}$$\n",
    "\n",
    "* If the player picks the edge cards (LR), this will result in $\\Delta=180^o$ so the probability of picking the same colored card will be equal to:\n",
    "  \n",
    "  $$\\cos^2(180^o) = 1 = 100\\% \\quad\\text{(House always wins)}$$\n",
    "  \n",
    "  whereas the probability of the picked cards being of different colors will be: \n",
    "  \n",
    "  $$\\sin^2(180^o) = 0 \\quad\\text{(Player can never win)}$$"
   ]
  },
  {
   "cell_type": "markdown",
   "id": "a1ece653",
   "metadata": {},
   "source": [
    "So, imagine entering a game where you seemingly have 66.6% chance of winning but instead lose every round!"
   ]
  },
  {
   "cell_type": "markdown",
   "id": "a9e95d70",
   "metadata": {},
   "source": [
    "## Reference\n",
    "* Gary Oas, Quantum Mechanics, Pre-Collegiate Institute: Quantum Mechanics, [Week 3](https://web.stanford.edu/~oas/SI/QM/notes/SIQMWeek3.pdf), Stanford University."
   ]
  },
  {
   "cell_type": "markdown",
   "id": "edc74b1e",
   "metadata": {},
   "source": [
    "## Further Reading\n",
    "\n",
    "A much complex analysis of various \"quantum games\" is presented in Khesin & Shor's \"Simultaneous Measurement and Entanglement\" 2022 article. ([DOI: 10.48550/arXiv.2201.10667](https://arxiv.org/abs/2201.10667))\n",
    "\n",
    "I've attempted to work out all the intermediate calculations in Khesing & Shor's paper along with further comments & explanations ([my version](https://www.cryst.ehu.es/Companion_KS/intro.html))."
   ]
  },
  {
   "cell_type": "code",
   "execution_count": null,
   "id": "1b4a5fc9",
   "metadata": {},
   "outputs": [],
   "source": []
  }
 ],
 "metadata": {
  "jupytext": {
   "formats": "ipynb,md:myst",
   "text_representation": {
    "extension": ".md",
    "format_name": "myst",
    "format_version": 0.13,
    "jupytext_version": "1.11.5"
   }
  },
  "kernelspec": {
   "display_name": "Python 3 (ipykernel)",
   "language": "python",
   "name": "python3"
  },
  "language_info": {
   "codemirror_mode": {
    "name": "ipython",
    "version": 3
   },
   "file_extension": ".py",
   "mimetype": "text/x-python",
   "name": "python",
   "nbconvert_exporter": "python",
   "pygments_lexer": "ipython3",
   "version": "3.8.5"
  },
  "source_map": [
   13,
   24,
   28,
   75,
   79,
   130,
   142,
   215,
   255,
   259,
   296,
   302,
   319,
   325,
   329,
   333,
   341,
   372,
   388,
   398,
   420,
   424,
   429,
   437
  ]
 },
 "nbformat": 4,
 "nbformat_minor": 5
}