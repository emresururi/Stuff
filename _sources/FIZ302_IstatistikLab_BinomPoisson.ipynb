{
 "cells": [
  {
   "cell_type": "code",
   "execution_count": 1,
   "id": "d5651ea8",
   "metadata": {},
   "outputs": [],
   "source": [
    "import numpy as np\n",
    "from scipy import special\n",
    "import pandas as pd\n",
    "import matplotlib.pyplot as plt"
   ]
  },
  {
   "cell_type": "markdown",
   "id": "e56fd5cb",
   "metadata": {},
   "source": [
    "# Binom Dağılımı\n",
    "\n",
    "$$P_{N,p} = p^n q^{N-n}\\begin{bmatrix}N\\\\n\\end{bmatrix}=p^n q^{N-n}\\frac{N!}{(N-n)!n!}$$"
   ]
  },
  {
   "cell_type": "markdown",
   "id": "8f791fd2",
   "metadata": {},
   "source": [
    ">Genelleştirilmiş olasılık formülünün basit bir uygulaması olarak birkaç tane yirmi yüzlü _(0'dan 9'a her rakamın iki kere yer aldığı)_ zarın atıldığını düşünelim: Örneğin böyle 3 zarı attığımız zaman, iki 7 elde etme olasılığı nedir? Her ayrı olay için p olasılığı 1/10, N = 3 ve n = 2'dir. Buna göre olasılık 0.027'dir."
   ]
  },
  {
   "cell_type": "code",
   "execution_count": 2,
   "id": "f44af1f2",
   "metadata": {},
   "outputs": [
    {
     "data": {
      "text/plain": [
       "0.027000000000000007"
      ]
     },
     "execution_count": 2,
     "metadata": {},
     "output_type": "execute_result"
    }
   ],
   "source": [
    "p = 1/10\n",
    "q = 1 - p\n",
    "N = 3\n",
    "n = 2\n",
    "special.comb(N,n)*p**n*q**(N-n)"
   ]
  },
  {
   "cell_type": "markdown",
   "id": "b7b2c2c4",
   "metadata": {},
   "source": [
    "Binom dağılımda:\n",
    "\n",
    "$$\\bar n = Np\\\\\n",
    "\\sigma^2 = Npq$$"
   ]
  },
  {
   "cell_type": "markdown",
   "id": "54d9798b",
   "metadata": {},
   "source": [
    "## Poisson Dağılımı\n",
    "\n",
    "$a = Np$ ve $N\\gg$ ile $p\\ll$ olmak üzere:\n",
    "\n",
    "$$P_a(n) = \\frac{a^ne^{-a}}{n!}$$\n",
    "\n",
    "$$\\bar n = a\\\\\n",
    "\\sigma^2 = a$$"
   ]
  },
  {
   "cell_type": "markdown",
   "id": "2c1fb776",
   "metadata": {},
   "source": [
    "## Deney"
   ]
  },
  {
   "cell_type": "markdown",
   "id": "f225124c",
   "metadata": {},
   "source": [
    ">Yirmi yüzlü üç zardan elde edilen sayıları Çizelge 1 ‘e geçirerek 360 rakamlı bir gelişigüzel sayılar çizelgesi kurun."
   ]
  },
  {
   "cell_type": "code",
   "execution_count": 3,
   "id": "bed9474d",
   "metadata": {},
   "outputs": [
    {
     "data": {
      "text/plain": [
       "array([[1, 5, 5, 6, 3, 8, 1, 3, 2, 7, 4, 2, 1, 3, 7, 5, 8, 0, 5, 7, 2, 2,\n",
       "        4, 4],\n",
       "       [3, 5, 8, 6, 0, 3, 8, 0, 3, 7, 3, 8, 5, 7, 8, 9, 2, 8, 6, 3, 7, 0,\n",
       "        7, 5],\n",
       "       [1, 2, 0, 9, 8, 3, 9, 5, 7, 1, 5, 1, 3, 8, 2, 3, 9, 9, 3, 2, 6, 6,\n",
       "        7, 9],\n",
       "       [5, 6, 6, 2, 0, 0, 4, 7, 0, 9, 5, 4, 7, 3, 7, 3, 4, 7, 3, 6, 5, 7,\n",
       "        8, 6],\n",
       "       [1, 7, 8, 7, 4, 3, 4, 0, 5, 8, 2, 0, 6, 2, 0, 9, 7, 3, 4, 3, 9, 3,\n",
       "        0, 3],\n",
       "       [0, 1, 6, 1, 5, 8, 3, 5, 4, 7, 8, 4, 8, 8, 7, 1, 2, 8, 1, 9, 6, 4,\n",
       "        5, 0],\n",
       "       [7, 8, 2, 4, 1, 0, 5, 7, 1, 8, 4, 3, 2, 6, 0, 5, 6, 2, 3, 5, 3, 4,\n",
       "        6, 2],\n",
       "       [5, 0, 2, 5, 7, 8, 5, 6, 5, 7, 1, 7, 0, 2, 3, 2, 9, 5, 9, 3, 6, 3,\n",
       "        9, 8],\n",
       "       [7, 6, 9, 5, 6, 6, 0, 3, 4, 2, 4, 1, 0, 3, 9, 5, 2, 5, 0, 7, 0, 1,\n",
       "        8, 0],\n",
       "       [4, 5, 2, 8, 6, 9, 3, 6, 9, 5, 9, 8, 2, 9, 1, 3, 2, 9, 6, 8, 2, 2,\n",
       "        6, 9],\n",
       "       [6, 6, 2, 2, 0, 4, 0, 7, 6, 4, 9, 0, 7, 5, 8, 5, 2, 6, 8, 8, 5, 1,\n",
       "        2, 1],\n",
       "       [4, 0, 6, 9, 5, 5, 4, 8, 4, 4, 2, 3, 8, 5, 7, 2, 1, 7, 8, 9, 8, 9,\n",
       "        6, 8],\n",
       "       [9, 0, 0, 2, 2, 8, 6, 1, 7, 0, 2, 9, 0, 5, 5, 0, 3, 1, 2, 6, 3, 5,\n",
       "        2, 4],\n",
       "       [9, 0, 1, 1, 6, 2, 6, 3, 1, 7, 8, 9, 2, 7, 7, 8, 4, 2, 3, 4, 0, 1,\n",
       "        6, 6],\n",
       "       [3, 8, 6, 1, 6, 8, 8, 7, 1, 8, 0, 1, 6, 6, 6, 8, 0, 6, 2, 5, 2, 0,\n",
       "        4, 3]])"
      ]
     },
     "execution_count": 3,
     "metadata": {},
     "output_type": "execute_result"
    }
   ],
   "source": [
    "n_satir = 15\n",
    "n_sutun = 24\n",
    "N = n_satir * n_sutun\n",
    "rakamlar = np.random.randint(0,10,(n_satir,n_sutun))\n",
    "rakamlar"
   ]
  },
  {
   "cell_type": "markdown",
   "id": "18c390e2",
   "metadata": {},
   "source": [
    "### Çizelge 1 (Olasılık Dağılımı Deneyi)"
   ]
  },
  {
   "cell_type": "code",
   "execution_count": 4,
   "id": "146970c7",
   "metadata": {},
   "outputs": [
    {
     "name": "stdout",
     "output_type": "stream",
     "text": [
      "| 1 5 5 | 6 3 8 | 1 3 2 | 7 4 2 | 1 3 7 | 5 8 0 | 5 7 2 | 2 4 4 | \n",
      "| 3 5 8 | 6 0 3 | 8 0 3 | 7 3 8 | 5 7 8 | 9 2 8 | 6 3 7 | 0 7 5 | \n",
      "| 1 2 0 | 9 8 3 | 9 5 7 | 1 5 1 | 3 8 2 | 3 9 9 | 3 2 6 | 6 7 9 | \n",
      "-----------------------------------------------------------------\n",
      "| 5 6 6 | 2 0 0 | 4 7 0 | 9 5 4 | 7 3 7 | 3 4 7 | 3 6 5 | 7 8 6 | \n",
      "| 1 7 8 | 7 4 3 | 4 0 5 | 8 2 0 | 6 2 0 | 9 7 3 | 4 3 9 | 3 0 3 | \n",
      "| 0 1 6 | 1 5 8 | 3 5 4 | 7 8 4 | 8 8 7 | 1 2 8 | 1 9 6 | 4 5 0 | \n",
      "-----------------------------------------------------------------\n",
      "| 7 8 2 | 4 1 0 | 5 7 1 | 8 4 3 | 2 6 0 | 5 6 2 | 3 5 3 | 4 6 2 | \n",
      "| 5 0 2 | 5 7 8 | 5 6 5 | 7 1 7 | 0 2 3 | 2 9 5 | 9 3 6 | 3 9 8 | \n",
      "| 7 6 9 | 5 6 6 | 0 3 4 | 2 4 1 | 0 3 9 | 5 2 5 | 0 7 0 | 1 8 0 | \n",
      "-----------------------------------------------------------------\n",
      "| 4 5 2 | 8 6 9 | 3 6 9 | 5 9 8 | 2 9 1 | 3 2 9 | 6 8 2 | 2 6 9 | \n",
      "| 6 6 2 | 2 0 4 | 0 7 6 | 4 9 0 | 7 5 8 | 5 2 6 | 8 8 5 | 1 2 1 | \n",
      "| 4 0 6 | 9 5 5 | 4 8 4 | 4 2 3 | 8 5 7 | 2 1 7 | 8 9 8 | 9 6 8 | \n",
      "-----------------------------------------------------------------\n",
      "| 9 0 0 | 2 2 8 | 6 1 7 | 0 2 9 | 0 5 5 | 0 3 1 | 2 6 3 | 5 2 4 | \n",
      "| 9 0 1 | 1 6 2 | 6 3 1 | 7 8 9 | 2 7 7 | 8 4 2 | 3 4 0 | 1 6 6 | \n",
      "| 3 8 6 | 1 6 8 | 8 7 1 | 8 0 1 | 6 6 6 | 8 0 6 | 2 5 2 | 0 4 3 | \n",
      "-----------------------------------------------------------------\n"
     ]
    }
   ],
   "source": [
    "for i in range(n_satir):\n",
    "    print(\"| \",end=\"\")\n",
    "    for j in range(n_sutun):\n",
    "        print(\"{:d}\".format(rakamlar[i,j]),end=\" \")\n",
    "        if((j+1)%3==0):\n",
    "            print(\"|\",end=\" \")\n",
    "    if((i+1)%3 == 0):\n",
    "        print(\"\")\n",
    "        print(\"-\"*(n_sutun*2+(int)(n_sutun/2)+5))\n",
    "    else:\n",
    "        print(\"\")\n",
    "    "
   ]
  },
  {
   "cell_type": "markdown",
   "id": "49a5f275",
   "metadata": {},
   "source": [
    "### Çizelge 2A (Olasılık Dağılımı Deneyi)"
   ]
  },
  {
   "cell_type": "code",
   "execution_count": 5,
   "id": "a02eec5e",
   "metadata": {},
   "outputs": [
    {
     "name": "stdout",
     "output_type": "stream",
     "text": [
      " Sayı  Frekans   Olasılık \n",
      "-------------------------\n",
      "  0       37     0.10278  \n",
      "  1       29     0.08056  \n",
      "  2       42     0.11667  \n",
      "  3       38     0.10556  \n",
      "  4       28     0.07778  \n",
      "  5       39     0.10833  \n",
      "  6       42     0.11667  \n",
      "  7       35     0.09722  \n",
      "  8       41     0.11389  \n",
      "  9       29     0.08056  \n"
     ]
    }
   ],
   "source": [
    "print(\"{:^6s} {:^8s} {:^10s}\".format(\"Sayı\",\"Frekans\",\"Olasılık\"))\n",
    "print(\"-\"*25)\n",
    "for i in range(10):\n",
    "    toplam = np.sum(i==rakamlar)\n",
    "    print(\"{:^6d} {:^8d} {:^10.5f}\".format(i,toplam,toplam/(n_satir*n_sutun)))"
   ]
  },
  {
   "cell_type": "code",
   "execution_count": 6,
   "id": "c8933392",
   "metadata": {},
   "outputs": [
    {
     "name": "stdout",
     "output_type": "stream",
     "text": [
      "Ortalama: 4.5000\n",
      "Varyans : 7.9778\n"
     ]
    }
   ],
   "source": [
    "# Hazır fonksiyonlar kullanarak\n",
    "ortalama = rakamlar.mean()\n",
    "varyans = rakamlar.var()\n",
    "\n",
    "print(\"Ortalama: {:.4f}\".format(ortalama))\n",
    "print(\"Varyans : {:.4f}\".format(varyans))"
   ]
  },
  {
   "cell_type": "code",
   "execution_count": 7,
   "id": "3da46ed3",
   "metadata": {},
   "outputs": [
    {
     "name": "stdout",
     "output_type": "stream",
     "text": [
      "Ortalama: 4.5000 (formul)\n",
      "Varyans : 7.9778 (formul)\n"
     ]
    }
   ],
   "source": [
    "# Formül kullanarak\n",
    "rakamlar_tum = rakamlar.flatten()\n",
    "toplam_aux = 0\n",
    "for n_i in rakamlar_tum:\n",
    "    toplam_aux += n_i\n",
    "ortalama_formul = toplam_aux / N\n",
    "\n",
    "varyans_aux = 0\n",
    "for n_i in rakamlar_tum:\n",
    "    varyans_aux += (n_i - ortalama_formul)**2\n",
    "varyans_formul = varyans_aux / N\n",
    "\n",
    "print(\"Ortalama: {:.4f} (formul)\".format(ortalama_formul))\n",
    "print(\"Varyans : {:.4f} (formul)\".format(varyans_formul))"
   ]
  },
  {
   "cell_type": "code",
   "execution_count": 8,
   "id": "b40e9fe8",
   "metadata": {},
   "outputs": [
    {
     "data": {
      "image/png": "[encoded data removed]",
      "text/plain": [
       "<Figure size 432x288 with 1 Axes>"
      ]
     },
     "metadata": {
      "filenames": {
       "image/png": "/stmp/code/books/Stuff/_build/jupyter_execute/FIZ302_IstatistikLab_BinomPoisson_15_0.png"
      },
      "needs_background": "light"
     },
     "output_type": "display_data"
    }
   ],
   "source": [
    "plt.hist(rakamlar_tum,bins=np.arange(11),edgecolor=\"red\")\n",
    "plt.xticks(np.arange(10)+0.5,range(10)) # x değerleri tam ortada çıksın diye\n",
    "                                        # yarım birim sağa öteliyoruz\n",
    "plt.xlabel(\"Rakam\")\n",
    "plt.ylabel(\"Frekans\")\n",
    "plt.show()"
   ]
  },
  {
   "cell_type": "markdown",
   "id": "493ab3a2",
   "metadata": {},
   "source": [
    "# Deney\n",
    "\n",
    ">1. Deney 4 için hazırlanan gelişigüzel sayılar çizelgesi binom ve Poisson dağılımları için\n",
    "ilginç örnekler verir. Yirmi yüzlü zar ile elde edilen üç-rakamlı gelişigüzel sayıları alarak her üç gruptaki 7'lerin sayısı için bir frekans sayımı yapın. Yani, üç rakamlı sayılardan kaç tanesinde hiç 7 yoktur; bir tane 7, iki 7 veya üç 7 kaç tanesinde var? Sonuçlarınızı ana binom dağılımına göre beklediklerinizle karşılaştırın. Örnek ortalamasını ve variansı hesaplayıp ana binom dağılımındaki değerlerle karşılaştırın."
   ]
  },
  {
   "cell_type": "code",
   "execution_count": 9,
   "id": "4a92c973",
   "metadata": {},
   "outputs": [
    {
     "data": {
      "text/plain": [
       "array([[1, 5, 5],\n",
       "       [6, 3, 8],\n",
       "       [1, 3, 2],\n",
       "       [7, 4, 2],\n",
       "       [1, 3, 7],\n",
       "       [5, 8, 0],\n",
       "       [5, 7, 2],\n",
       "       [2, 4, 4],\n",
       "       [3, 5, 8],\n",
       "       [6, 0, 3]])"
      ]
     },
     "execution_count": 9,
     "metadata": {},
     "output_type": "execute_result"
    }
   ],
   "source": [
    "sayilar = rakamlar_tum.reshape((int)(N/3),3)\n",
    "sayilar[:10,:]"
   ]
  },
  {
   "cell_type": "code",
   "execution_count": 10,
   "id": "c583cc09",
   "metadata": {},
   "outputs": [
    {
     "name": "stdout",
     "output_type": "stream",
     "text": [
      "137 sayısındaki 7 adedi: 1\n"
     ]
    }
   ],
   "source": [
    "k = 7\n",
    "sayi =  sayilar[4,:]\n",
    "sayi_str = \"\".join(sayi.astype(\"str\"))\n",
    "print(\"{:3s} sayısındaki {:d} adedi: {:d}\".format(sayi_str,k,np.sum(k==sayi)))"
   ]
  },
  {
   "cell_type": "code",
   "execution_count": 11,
   "id": "ebfc2112",
   "metadata": {},
   "outputs": [
    {
     "name": "stdout",
     "output_type": "stream",
     "text": [
      "İçinde 0 tane 7 olan sayı adedi: 88\t(Olasılık: 0.73333)\n",
      "İçinde 1 tane 7 olan sayı adedi: 29\t(Olasılık: 0.24167)\n",
      "İçinde 2 tane 7 olan sayı adedi: 3\t(Olasılık: 0.02500)\n",
      "İçinde 3 tane 7 olan sayı adedi: 0\t(Olasılık: 0.00000)\n",
      "\n",
      "Toplam sayı adedi: 120\n"
     ]
    }
   ],
   "source": [
    "k_toplam = np.zeros(4,int)\n",
    "\n",
    "for i in range(sayilar.shape[0]):\n",
    "    sayi =  sayilar[i,:]\n",
    "    k_toplam[np.sum(k==sayi)] += 1\n",
    "\n",
    "for i in range(4):\n",
    "    print(\"İçinde {:d} tane {:d} olan sayı adedi: {:d}\".format(i,k,k_toplam[i]),end=\"\\t\")\n",
    "    print(\"(Olasılık: {:.5f})\".format(k_toplam[i]/sayilar.shape[0]))\n",
    "    \n",
    "print(\"\\nToplam sayı adedi: {:d}\".format(sayilar.shape[0]))"
   ]
  },
  {
   "cell_type": "markdown",
   "id": "86b908bb",
   "metadata": {},
   "source": [
    "## Sonuçların binom dağılımına göre karşılaştırılması\n",
    "\n",
    "Binom dağılımına göre karşılaştırırken sormamız gereken soru: \n",
    "\n",
    "\"Rastgele 3 rakam çekilirse, bunların $n$ $(n=0,1,2,3)$ tanesinin 7 olma olasılığı nedir?\"\n",
    "\n",
    "şeklindedir."
   ]
  },
  {
   "cell_type": "code",
   "execution_count": 12,
   "id": "a8925c9f",
   "metadata": {},
   "outputs": [
    {
     "name": "stdout",
     "output_type": "stream",
     "text": [
      "Rastgele çekilen 3 rakamdan 0 tanesinin 7 olma ihtimali: 0.72900\n",
      "Rastgele çekilen 3 rakamdan 1 tanesinin 7 olma ihtimali: 0.24300\n",
      "Rastgele çekilen 3 rakamdan 2 tanesinin 7 olma ihtimali: 0.02700\n",
      "Rastgele çekilen 3 rakamdan 3 tanesinin 7 olma ihtimali: 0.00100\n"
     ]
    }
   ],
   "source": [
    "N = 3\n",
    "p = 1/10\n",
    "q = 1 - p\n",
    "\n",
    "for n in range(4):\n",
    "    olasilik_n = special.comb(N,n)*p**n*q**(N-n)\n",
    "    print(\"Rastgele çekilen 3 rakamdan {:d} tanesinin {:d} olma ihtimali: {:.5f}\"\\\n",
    "         .format(n,k,olasilik_n))\n",
    "    \n",
    "    "
   ]
  },
  {
   "cell_type": "markdown",
   "id": "43a503b4",
   "metadata": {},
   "source": [
    "### 9 rakamlı gruplar"
   ]
  },
  {
   "cell_type": "markdown",
   "id": "0d4020a8",
   "metadata": {},
   "source": [
    ">2. Şimdi de gelişigüzel sayılar çizelgesindeki dokuz rakamlı grupları alalım. 9 rakamlı\n",
    "grupların her birindeki 7'lerin sayısı için frekans sayımı yapın; çizelgede böyle 40 grup bulunmaktadır. Sonuçlarınızı Çizelge 1’ e geçirin."
   ]
  },
  {
   "cell_type": "code",
   "execution_count": 13,
   "id": "c70ab2c7",
   "metadata": {},
   "outputs": [
    {
     "data": {
      "text/plain": [
       "array([[1, 5, 5, 6, 3, 8, 1, 3, 2],\n",
       "       [7, 4, 2, 1, 3, 7, 5, 8, 0],\n",
       "       [5, 7, 2, 2, 4, 4, 3, 5, 8],\n",
       "       [6, 0, 3, 8, 0, 3, 7, 3, 8],\n",
       "       [5, 7, 8, 9, 2, 8, 6, 3, 7],\n",
       "       [0, 7, 5, 1, 2, 0, 9, 8, 3],\n",
       "       [9, 5, 7, 1, 5, 1, 3, 8, 2],\n",
       "       [3, 9, 9, 3, 2, 6, 6, 7, 9],\n",
       "       [5, 6, 6, 2, 0, 0, 4, 7, 0],\n",
       "       [9, 5, 4, 7, 3, 7, 3, 4, 7]])"
      ]
     },
     "execution_count": 13,
     "metadata": {},
     "output_type": "execute_result"
    }
   ],
   "source": [
    "sayilar_9 = rakamlar.reshape(40,9)\n",
    "sayilar_9[:10,:]"
   ]
  },
  {
   "cell_type": "code",
   "execution_count": 14,
   "id": "75bac6ac",
   "metadata": {},
   "outputs": [
    {
     "data": {
      "text/html": [
       "<div>\n",
       "<style scoped>\n",
       "    .dataframe tbody tr th:only-of-type {\n",
       "        vertical-align: middle;\n",
       "    }\n",
       "\n",
       "    .dataframe tbody tr th {\n",
       "        vertical-align: top;\n",
       "    }\n",
       "\n",
       "    .dataframe thead th {\n",
       "        text-align: right;\n",
       "    }\n",
       "</style>\n",
       "<table border=\"1\" class=\"dataframe\">\n",
       "  <thead>\n",
       "    <tr style=\"text-align: right;\">\n",
       "      <th></th>\n",
       "      <th>0</th>\n",
       "      <th>1</th>\n",
       "      <th>2</th>\n",
       "      <th>3</th>\n",
       "      <th>4</th>\n",
       "      <th>5</th>\n",
       "      <th>6</th>\n",
       "      <th>7</th>\n",
       "      <th>8</th>\n",
       "      <th>9</th>\n",
       "    </tr>\n",
       "    <tr>\n",
       "      <th>Sayı</th>\n",
       "      <th></th>\n",
       "      <th></th>\n",
       "      <th></th>\n",
       "      <th></th>\n",
       "      <th></th>\n",
       "      <th></th>\n",
       "      <th></th>\n",
       "      <th></th>\n",
       "      <th></th>\n",
       "      <th></th>\n",
       "    </tr>\n",
       "  </thead>\n",
       "  <tbody>\n",
       "    <tr>\n",
       "      <th>0</th>\n",
       "      <td>0</td>\n",
       "      <td>2</td>\n",
       "      <td>1</td>\n",
       "      <td>2</td>\n",
       "      <td>0</td>\n",
       "      <td>2</td>\n",
       "      <td>1</td>\n",
       "      <td>0</td>\n",
       "      <td>1</td>\n",
       "      <td>0</td>\n",
       "    </tr>\n",
       "    <tr>\n",
       "      <th>1</th>\n",
       "      <td>1</td>\n",
       "      <td>1</td>\n",
       "      <td>1</td>\n",
       "      <td>1</td>\n",
       "      <td>1</td>\n",
       "      <td>1</td>\n",
       "      <td>0</td>\n",
       "      <td>2</td>\n",
       "      <td>1</td>\n",
       "      <td>0</td>\n",
       "    </tr>\n",
       "    <tr>\n",
       "      <th>2</th>\n",
       "      <td>0</td>\n",
       "      <td>0</td>\n",
       "      <td>2</td>\n",
       "      <td>1</td>\n",
       "      <td>2</td>\n",
       "      <td>2</td>\n",
       "      <td>0</td>\n",
       "      <td>1</td>\n",
       "      <td>1</td>\n",
       "      <td>0</td>\n",
       "    </tr>\n",
       "    <tr>\n",
       "      <th>3</th>\n",
       "      <td>2</td>\n",
       "      <td>0</td>\n",
       "      <td>0</td>\n",
       "      <td>3</td>\n",
       "      <td>0</td>\n",
       "      <td>0</td>\n",
       "      <td>1</td>\n",
       "      <td>1</td>\n",
       "      <td>2</td>\n",
       "      <td>0</td>\n",
       "    </tr>\n",
       "    <tr>\n",
       "      <th>4</th>\n",
       "      <td>0</td>\n",
       "      <td>0</td>\n",
       "      <td>1</td>\n",
       "      <td>1</td>\n",
       "      <td>0</td>\n",
       "      <td>1</td>\n",
       "      <td>1</td>\n",
       "      <td>2</td>\n",
       "      <td>2</td>\n",
       "      <td>1</td>\n",
       "    </tr>\n",
       "    <tr>\n",
       "      <th>5</th>\n",
       "      <td>2</td>\n",
       "      <td>1</td>\n",
       "      <td>1</td>\n",
       "      <td>1</td>\n",
       "      <td>0</td>\n",
       "      <td>1</td>\n",
       "      <td>0</td>\n",
       "      <td>1</td>\n",
       "      <td>1</td>\n",
       "      <td>1</td>\n",
       "    </tr>\n",
       "    <tr>\n",
       "      <th>6</th>\n",
       "      <td>0</td>\n",
       "      <td>2</td>\n",
       "      <td>1</td>\n",
       "      <td>1</td>\n",
       "      <td>0</td>\n",
       "      <td>2</td>\n",
       "      <td>0</td>\n",
       "      <td>1</td>\n",
       "      <td>1</td>\n",
       "      <td>1</td>\n",
       "    </tr>\n",
       "    <tr>\n",
       "      <th>7</th>\n",
       "      <td>0</td>\n",
       "      <td>0</td>\n",
       "      <td>1</td>\n",
       "      <td>2</td>\n",
       "      <td>0</td>\n",
       "      <td>0</td>\n",
       "      <td>2</td>\n",
       "      <td>1</td>\n",
       "      <td>0</td>\n",
       "      <td>3</td>\n",
       "    </tr>\n",
       "    <tr>\n",
       "      <th>8</th>\n",
       "      <td>3</td>\n",
       "      <td>0</td>\n",
       "      <td>1</td>\n",
       "      <td>0</td>\n",
       "      <td>1</td>\n",
       "      <td>1</td>\n",
       "      <td>2</td>\n",
       "      <td>1</td>\n",
       "      <td>0</td>\n",
       "      <td>0</td>\n",
       "    </tr>\n",
       "    <tr>\n",
       "      <th>9</th>\n",
       "      <td>0</td>\n",
       "      <td>0</td>\n",
       "      <td>0</td>\n",
       "      <td>2</td>\n",
       "      <td>2</td>\n",
       "      <td>1</td>\n",
       "      <td>0</td>\n",
       "      <td>3</td>\n",
       "      <td>0</td>\n",
       "      <td>1</td>\n",
       "    </tr>\n",
       "    <tr>\n",
       "      <th>10</th>\n",
       "      <td>0</td>\n",
       "      <td>1</td>\n",
       "      <td>0</td>\n",
       "      <td>1</td>\n",
       "      <td>0</td>\n",
       "      <td>1</td>\n",
       "      <td>2</td>\n",
       "      <td>2</td>\n",
       "      <td>2</td>\n",
       "      <td>0</td>\n",
       "    </tr>\n",
       "  </tbody>\n",
       "</table>\n",
       "</div>"
      ],
      "text/plain": [
       "      0  1  2  3  4  5  6  7  8  9\n",
       "Sayı                              \n",
       "0     0  2  1  2  0  2  1  0  1  0\n",
       "1     1  1  1  1  1  1  0  2  1  0\n",
       "2     0  0  2  1  2  2  0  1  1  0\n",
       "3     2  0  0  3  0  0  1  1  2  0\n",
       "4     0  0  1  1  0  1  1  2  2  1\n",
       "5     2  1  1  1  0  1  0  1  1  1\n",
       "6     0  2  1  1  0  2  0  1  1  1\n",
       "7     0  0  1  2  0  0  2  1  0  3\n",
       "8     3  0  1  0  1  1  2  1  0  0\n",
       "9     0  0  0  2  2  1  0  3  0  1\n",
       "10    0  1  0  1  0  1  2  2  2  0"
      ]
     },
     "execution_count": 14,
     "metadata": {},
     "output_type": "execute_result"
    }
   ],
   "source": [
    "# Her bir sayıyı oluşturan rakamlardan kaçar tane\n",
    "# olduğunu tutan çizelge\n",
    "\n",
    "# Örneğin cizelge_1_aux.loc[4,6]: 4 indisli sayıda kaç adet \n",
    "# 6 olduğunu vermekte\n",
    "\n",
    "# Benzer şekilde, cizelge_1_aux.loc[6,0]: 6 indisli sayıda \n",
    "# kaç adet 0 olduğunu vermekte\n",
    "\n",
    "sayilar_9_adedi = sayilar_9.shape[0]\n",
    "cizelge_1_aux_np = np.zeros((sayilar_9_adedi,10),int)\n",
    "for i in range(sayilar_9_adedi):\n",
    "    for rakam in range(10):\n",
    "        cizelge_1_aux_np[i,rakam] = np.sum(rakam==sayilar_9[i,:])\n",
    "        \n",
    "cizelge_1_aux = pd.DataFrame(cizelge_1_aux_np)\n",
    "cizelge_1_aux.index.names=[\"Sayı\"]\n",
    "cizelge_1_aux.loc[:10,:]"
   ]
  },
  {
   "cell_type": "code",
   "execution_count": 15,
   "id": "94edcef3",
   "metadata": {},
   "outputs": [],
   "source": [
    "# Bu da hangi rakamın bir sayıda kaç kere çıkmış\n",
    "# olduğunu tutan çizelge (Çizelge 1)\n",
    "\n",
    "# Örneğin cizelge_1.loc[4,6]: 4 rakamının kaç tane sayıda\n",
    "# 6 kere olduğunu vermekte;\n",
    "\n",
    "# Benzer şekilde, cizelge_1.loc[6,0]: 6 rakamını \n",
    "# hiç içermeyen kaç tane sayı olduğunu vermekte\n",
    "\n",
    "cizelge_1_np = np.zeros((10,10),int)\n",
    "for rakam in range(10):\n",
    "    for n in range(10):\n",
    "        rakamdan_n_tane_var = np.sum(cizelge_1_aux[rakam] == n)\n",
    "        cizelge_1_np[rakam,n] = rakamdan_n_tane_var\n",
    "cizelge_1_np\n",
    "\n",
    "cizelge_1 = pd.DataFrame(cizelge_1_np)\n",
    "cizelge_1.index.names = [\"Rakam\"]"
   ]
  },
  {
   "cell_type": "code",
   "execution_count": 16,
   "id": "228c54ba",
   "metadata": {},
   "outputs": [
    {
     "data": {
      "text/html": [
       "<div>\n",
       "<style scoped>\n",
       "    .dataframe tbody tr th:only-of-type {\n",
       "        vertical-align: middle;\n",
       "    }\n",
       "\n",
       "    .dataframe tbody tr th {\n",
       "        vertical-align: top;\n",
       "    }\n",
       "\n",
       "    .dataframe thead th {\n",
       "        text-align: right;\n",
       "    }\n",
       "</style>\n",
       "<table border=\"1\" class=\"dataframe\">\n",
       "  <thead>\n",
       "    <tr style=\"text-align: right;\">\n",
       "      <th></th>\n",
       "      <th>1</th>\n",
       "      <th>2</th>\n",
       "      <th>3</th>\n",
       "      <th>4</th>\n",
       "      <th>5</th>\n",
       "      <th>6</th>\n",
       "      <th>7</th>\n",
       "      <th>8</th>\n",
       "      <th>9</th>\n",
       "      <th>0</th>\n",
       "    </tr>\n",
       "    <tr>\n",
       "      <th>Rakam</th>\n",
       "      <th></th>\n",
       "      <th></th>\n",
       "      <th></th>\n",
       "      <th></th>\n",
       "      <th></th>\n",
       "      <th></th>\n",
       "      <th></th>\n",
       "      <th></th>\n",
       "      <th></th>\n",
       "      <th></th>\n",
       "    </tr>\n",
       "  </thead>\n",
       "  <tbody>\n",
       "    <tr>\n",
       "      <th>0</th>\n",
       "      <td>11</td>\n",
       "      <td>7</td>\n",
       "      <td>4</td>\n",
       "      <td>0</td>\n",
       "      <td>0</td>\n",
       "      <td>0</td>\n",
       "      <td>0</td>\n",
       "      <td>0</td>\n",
       "      <td>0</td>\n",
       "      <td>18</td>\n",
       "    </tr>\n",
       "    <tr>\n",
       "      <th>1</th>\n",
       "      <td>11</td>\n",
       "      <td>9</td>\n",
       "      <td>0</td>\n",
       "      <td>0</td>\n",
       "      <td>0</td>\n",
       "      <td>0</td>\n",
       "      <td>0</td>\n",
       "      <td>0</td>\n",
       "      <td>0</td>\n",
       "      <td>20</td>\n",
       "    </tr>\n",
       "    <tr>\n",
       "      <th>2</th>\n",
       "      <td>21</td>\n",
       "      <td>9</td>\n",
       "      <td>1</td>\n",
       "      <td>0</td>\n",
       "      <td>0</td>\n",
       "      <td>0</td>\n",
       "      <td>0</td>\n",
       "      <td>0</td>\n",
       "      <td>0</td>\n",
       "      <td>9</td>\n",
       "    </tr>\n",
       "    <tr>\n",
       "      <th>3</th>\n",
       "      <td>19</td>\n",
       "      <td>8</td>\n",
       "      <td>1</td>\n",
       "      <td>0</td>\n",
       "      <td>0</td>\n",
       "      <td>0</td>\n",
       "      <td>0</td>\n",
       "      <td>0</td>\n",
       "      <td>0</td>\n",
       "      <td>12</td>\n",
       "    </tr>\n",
       "    <tr>\n",
       "      <th>4</th>\n",
       "      <td>11</td>\n",
       "      <td>7</td>\n",
       "      <td>1</td>\n",
       "      <td>0</td>\n",
       "      <td>0</td>\n",
       "      <td>0</td>\n",
       "      <td>0</td>\n",
       "      <td>0</td>\n",
       "      <td>0</td>\n",
       "      <td>21</td>\n",
       "    </tr>\n",
       "    <tr>\n",
       "      <th>5</th>\n",
       "      <td>19</td>\n",
       "      <td>7</td>\n",
       "      <td>2</td>\n",
       "      <td>0</td>\n",
       "      <td>0</td>\n",
       "      <td>0</td>\n",
       "      <td>0</td>\n",
       "      <td>0</td>\n",
       "      <td>0</td>\n",
       "      <td>12</td>\n",
       "    </tr>\n",
       "    <tr>\n",
       "      <th>6</th>\n",
       "      <td>16</td>\n",
       "      <td>6</td>\n",
       "      <td>2</td>\n",
       "      <td>2</td>\n",
       "      <td>0</td>\n",
       "      <td>0</td>\n",
       "      <td>0</td>\n",
       "      <td>0</td>\n",
       "      <td>0</td>\n",
       "      <td>14</td>\n",
       "    </tr>\n",
       "    <tr>\n",
       "      <th>7</th>\n",
       "      <td>17</td>\n",
       "      <td>6</td>\n",
       "      <td>2</td>\n",
       "      <td>0</td>\n",
       "      <td>0</td>\n",
       "      <td>0</td>\n",
       "      <td>0</td>\n",
       "      <td>0</td>\n",
       "      <td>0</td>\n",
       "      <td>15</td>\n",
       "    </tr>\n",
       "    <tr>\n",
       "      <th>8</th>\n",
       "      <td>20</td>\n",
       "      <td>6</td>\n",
       "      <td>3</td>\n",
       "      <td>0</td>\n",
       "      <td>0</td>\n",
       "      <td>0</td>\n",
       "      <td>0</td>\n",
       "      <td>0</td>\n",
       "      <td>0</td>\n",
       "      <td>11</td>\n",
       "    </tr>\n",
       "    <tr>\n",
       "      <th>9</th>\n",
       "      <td>13</td>\n",
       "      <td>5</td>\n",
       "      <td>2</td>\n",
       "      <td>0</td>\n",
       "      <td>0</td>\n",
       "      <td>0</td>\n",
       "      <td>0</td>\n",
       "      <td>0</td>\n",
       "      <td>0</td>\n",
       "      <td>20</td>\n",
       "    </tr>\n",
       "  </tbody>\n",
       "</table>\n",
       "</div>"
      ],
      "text/plain": [
       "        1  2  3  4  5  6  7  8  9   0\n",
       "Rakam                                \n",
       "0      11  7  4  0  0  0  0  0  0  18\n",
       "1      11  9  0  0  0  0  0  0  0  20\n",
       "2      21  9  1  0  0  0  0  0  0   9\n",
       "3      19  8  1  0  0  0  0  0  0  12\n",
       "4      11  7  1  0  0  0  0  0  0  21\n",
       "5      19  7  2  0  0  0  0  0  0  12\n",
       "6      16  6  2  2  0  0  0  0  0  14\n",
       "7      17  6  2  0  0  0  0  0  0  15\n",
       "8      20  6  3  0  0  0  0  0  0  11\n",
       "9      13  5  2  0  0  0  0  0  0  20"
      ]
     },
     "execution_count": 16,
     "metadata": {},
     "output_type": "execute_result"
    }
   ],
   "source": [
    "# Çizelge 1'in sütunlarını föydeki gibi sıralayalım\n",
    "# (0 en sonda olacak şekilde)\n",
    "cizelge_1 = cizelge_1.loc[:,[1,2,3,4,5,6,7,8,9,0]]\n",
    "cizelge_1"
   ]
  },
  {
   "cell_type": "markdown",
   "id": "7f30b330",
   "metadata": {},
   "source": [
    ">Son olarak, olasılıkları elde etmek için bunları toplam ölçme sayısına bölün"
   ]
  },
  {
   "cell_type": "code",
   "execution_count": 17,
   "id": "6b8a22d3",
   "metadata": {},
   "outputs": [
    {
     "data": {
      "text/html": [
       "<div>\n",
       "<style scoped>\n",
       "    .dataframe tbody tr th:only-of-type {\n",
       "        vertical-align: middle;\n",
       "    }\n",
       "\n",
       "    .dataframe tbody tr th {\n",
       "        vertical-align: top;\n",
       "    }\n",
       "\n",
       "    .dataframe thead th {\n",
       "        text-align: right;\n",
       "    }\n",
       "</style>\n",
       "<table border=\"1\" class=\"dataframe\">\n",
       "  <thead>\n",
       "    <tr style=\"text-align: right;\">\n",
       "      <th></th>\n",
       "      <th>1</th>\n",
       "      <th>2</th>\n",
       "      <th>3</th>\n",
       "      <th>4</th>\n",
       "      <th>5</th>\n",
       "      <th>6</th>\n",
       "      <th>7</th>\n",
       "      <th>8</th>\n",
       "      <th>9</th>\n",
       "      <th>0</th>\n",
       "    </tr>\n",
       "    <tr>\n",
       "      <th>Rakam</th>\n",
       "      <th></th>\n",
       "      <th></th>\n",
       "      <th></th>\n",
       "      <th></th>\n",
       "      <th></th>\n",
       "      <th></th>\n",
       "      <th></th>\n",
       "      <th></th>\n",
       "      <th></th>\n",
       "      <th></th>\n",
       "    </tr>\n",
       "  </thead>\n",
       "  <tbody>\n",
       "    <tr>\n",
       "      <th>0</th>\n",
       "      <td>0.275</td>\n",
       "      <td>0.175</td>\n",
       "      <td>0.100</td>\n",
       "      <td>0.00</td>\n",
       "      <td>0.0</td>\n",
       "      <td>0.0</td>\n",
       "      <td>0.0</td>\n",
       "      <td>0.0</td>\n",
       "      <td>0.0</td>\n",
       "      <td>0.450</td>\n",
       "    </tr>\n",
       "    <tr>\n",
       "      <th>1</th>\n",
       "      <td>0.275</td>\n",
       "      <td>0.225</td>\n",
       "      <td>0.000</td>\n",
       "      <td>0.00</td>\n",
       "      <td>0.0</td>\n",
       "      <td>0.0</td>\n",
       "      <td>0.0</td>\n",
       "      <td>0.0</td>\n",
       "      <td>0.0</td>\n",
       "      <td>0.500</td>\n",
       "    </tr>\n",
       "    <tr>\n",
       "      <th>2</th>\n",
       "      <td>0.525</td>\n",
       "      <td>0.225</td>\n",
       "      <td>0.025</td>\n",
       "      <td>0.00</td>\n",
       "      <td>0.0</td>\n",
       "      <td>0.0</td>\n",
       "      <td>0.0</td>\n",
       "      <td>0.0</td>\n",
       "      <td>0.0</td>\n",
       "      <td>0.225</td>\n",
       "    </tr>\n",
       "    <tr>\n",
       "      <th>3</th>\n",
       "      <td>0.475</td>\n",
       "      <td>0.200</td>\n",
       "      <td>0.025</td>\n",
       "      <td>0.00</td>\n",
       "      <td>0.0</td>\n",
       "      <td>0.0</td>\n",
       "      <td>0.0</td>\n",
       "      <td>0.0</td>\n",
       "      <td>0.0</td>\n",
       "      <td>0.300</td>\n",
       "    </tr>\n",
       "    <tr>\n",
       "      <th>4</th>\n",
       "      <td>0.275</td>\n",
       "      <td>0.175</td>\n",
       "      <td>0.025</td>\n",
       "      <td>0.00</td>\n",
       "      <td>0.0</td>\n",
       "      <td>0.0</td>\n",
       "      <td>0.0</td>\n",
       "      <td>0.0</td>\n",
       "      <td>0.0</td>\n",
       "      <td>0.525</td>\n",
       "    </tr>\n",
       "    <tr>\n",
       "      <th>5</th>\n",
       "      <td>0.475</td>\n",
       "      <td>0.175</td>\n",
       "      <td>0.050</td>\n",
       "      <td>0.00</td>\n",
       "      <td>0.0</td>\n",
       "      <td>0.0</td>\n",
       "      <td>0.0</td>\n",
       "      <td>0.0</td>\n",
       "      <td>0.0</td>\n",
       "      <td>0.300</td>\n",
       "    </tr>\n",
       "    <tr>\n",
       "      <th>6</th>\n",
       "      <td>0.400</td>\n",
       "      <td>0.150</td>\n",
       "      <td>0.050</td>\n",
       "      <td>0.05</td>\n",
       "      <td>0.0</td>\n",
       "      <td>0.0</td>\n",
       "      <td>0.0</td>\n",
       "      <td>0.0</td>\n",
       "      <td>0.0</td>\n",
       "      <td>0.350</td>\n",
       "    </tr>\n",
       "    <tr>\n",
       "      <th>7</th>\n",
       "      <td>0.425</td>\n",
       "      <td>0.150</td>\n",
       "      <td>0.050</td>\n",
       "      <td>0.00</td>\n",
       "      <td>0.0</td>\n",
       "      <td>0.0</td>\n",
       "      <td>0.0</td>\n",
       "      <td>0.0</td>\n",
       "      <td>0.0</td>\n",
       "      <td>0.375</td>\n",
       "    </tr>\n",
       "    <tr>\n",
       "      <th>8</th>\n",
       "      <td>0.500</td>\n",
       "      <td>0.150</td>\n",
       "      <td>0.075</td>\n",
       "      <td>0.00</td>\n",
       "      <td>0.0</td>\n",
       "      <td>0.0</td>\n",
       "      <td>0.0</td>\n",
       "      <td>0.0</td>\n",
       "      <td>0.0</td>\n",
       "      <td>0.275</td>\n",
       "    </tr>\n",
       "    <tr>\n",
       "      <th>9</th>\n",
       "      <td>0.325</td>\n",
       "      <td>0.125</td>\n",
       "      <td>0.050</td>\n",
       "      <td>0.00</td>\n",
       "      <td>0.0</td>\n",
       "      <td>0.0</td>\n",
       "      <td>0.0</td>\n",
       "      <td>0.0</td>\n",
       "      <td>0.0</td>\n",
       "      <td>0.500</td>\n",
       "    </tr>\n",
       "  </tbody>\n",
       "</table>\n",
       "</div>"
      ],
      "text/plain": [
       "           1      2      3     4    5    6    7    8    9      0\n",
       "Rakam                                                           \n",
       "0      0.275  0.175  0.100  0.00  0.0  0.0  0.0  0.0  0.0  0.450\n",
       "1      0.275  0.225  0.000  0.00  0.0  0.0  0.0  0.0  0.0  0.500\n",
       "2      0.525  0.225  0.025  0.00  0.0  0.0  0.0  0.0  0.0  0.225\n",
       "3      0.475  0.200  0.025  0.00  0.0  0.0  0.0  0.0  0.0  0.300\n",
       "4      0.275  0.175  0.025  0.00  0.0  0.0  0.0  0.0  0.0  0.525\n",
       "5      0.475  0.175  0.050  0.00  0.0  0.0  0.0  0.0  0.0  0.300\n",
       "6      0.400  0.150  0.050  0.05  0.0  0.0  0.0  0.0  0.0  0.350\n",
       "7      0.425  0.150  0.050  0.00  0.0  0.0  0.0  0.0  0.0  0.375\n",
       "8      0.500  0.150  0.075  0.00  0.0  0.0  0.0  0.0  0.0  0.275\n",
       "9      0.325  0.125  0.050  0.00  0.0  0.0  0.0  0.0  0.0  0.500"
      ]
     },
     "execution_count": 17,
     "metadata": {},
     "output_type": "execute_result"
    }
   ],
   "source": [
    "cizelge_1_olasiliklar = cizelge_1/40\n",
    "cizelge_1_olasiliklar"
   ]
  },
  {
   "cell_type": "code",
   "execution_count": 18,
   "id": "2e9d1d4c",
   "metadata": {},
   "outputs": [
    {
     "data": {
      "text/plain": [
       "1    0.395\n",
       "2    0.175\n",
       "3    0.045\n",
       "4    0.005\n",
       "5    0.000\n",
       "6    0.000\n",
       "7    0.000\n",
       "8    0.000\n",
       "9    0.000\n",
       "0    0.380\n",
       "dtype: float64"
      ]
     },
     "execution_count": 18,
     "metadata": {},
     "output_type": "execute_result"
    }
   ],
   "source": [
    "# Her rakamın olasılığı üzerinden\n",
    "# (yani sütunlar boyunca) ortalama\n",
    "# değerlerini alalım\n",
    "cizelge_1_olasiliklar_ortalama = cizelge_1_olasiliklar.mean()\n",
    "\n",
    "cizelge_1_olasiliklar_ortalama"
   ]
  },
  {
   "cell_type": "markdown",
   "id": "b949fff4",
   "metadata": {},
   "source": [
    ">Sonuçlarınızı $P_{N,1/10} (n)$ binom dağılımı değerleriyle karşılaştırın."
   ]
  },
  {
   "cell_type": "code",
   "execution_count": 19,
   "id": "3a804537",
   "metadata": {},
   "outputs": [
    {
     "name": "stdout",
     "output_type": "stream",
     "text": [
      "Seçilen bir rakamın 9 rakamlı bir sayıda:\n",
      "\n",
      "\t0 kere çıkma ihtimali: 0.387420489\n",
      "\t1 kere çıkma ihtimali: 0.387420489\n",
      "\t2 kere çıkma ihtimali: 0.172186884\n",
      "\t3 kere çıkma ihtimali: 0.044641044\n",
      "\t4 kere çıkma ihtimali: 0.007440174\n",
      "\t5 kere çıkma ihtimali: 0.000826686\n",
      "\t6 kere çıkma ihtimali: 0.000061236\n",
      "\t7 kere çıkma ihtimali: 0.000002916\n",
      "\t8 kere çıkma ihtimali: 0.000000081\n",
      "\t9 kere çıkma ihtimali: 0.000000001\n"
     ]
    }
   ],
   "source": [
    "N = 9\n",
    "p = 1/10\n",
    "q = 1-p\n",
    "\n",
    "print(\"Seçilen bir rakamın 9 rakamlı bir sayıda:\\n\")\n",
    "for n in range(10):\n",
    "    olasilik_n_binom = special.comb(N,n)*p**n*q**(N-n)\n",
    "    print( \"\\t{:d} kere çıkma ihtimali: {:.9f}\"\\\n",
    "         .format(n,olasilik_n_binom))"
   ]
  },
  {
   "cell_type": "markdown",
   "id": "2380ef77",
   "metadata": {},
   "source": [
    ">Bu dağılımın değerlerini hesaplarken P(n+1)'i P(n) cinsinden veren bir geri götürme (özyineleme / _recurrence_) bağıntısı kullanmak fazla işlem yapmayı engeller.\n",
    ">\n",
    ">Binom dağlımı için uygun olan geri götürme bağıntısı (...) aşağıdaki bağıntıdır.\n",
    ">\n",
    ">$$P_{N,p}(N+1)=\\frac{p(N-n)}{q(n+1)}P_{N,p}(n)$$\n",
    ">\n",
    ">Buna göre sadece $P_{N,p}(0)$'ı hesaplamak ve bu bağıntıyı kullanmak yeterlidir. Geri götürme bağıntısını kullanırken başta yapılan bir hata süregideceğinden genel olarak bu yol biraz sakıncalıdır. Bununla birlikte bu özel durumda artan n'ler için P’nin değerleri çok çabuk küçüldüğünden bir sakınca yoktur. Gerçekten, $n\\gt4$ için değerlerin $10^{-5}$'ten küçük olduğunu, böylece daha ileri gitmenin anlamsızlığını görmelisiniz."
   ]
  },
  {
   "cell_type": "code",
   "execution_count": 20,
   "id": "b1e333f7",
   "metadata": {},
   "outputs": [
    {
     "name": "stdout",
     "output_type": "stream",
     "text": [
      "Seçilen bir rakamın 9 rakamlı bir sayıda n kere çıkma ihtimali:\n",
      "\n",
      " n      Binom    | Özyineleme  |    Örnek   \n",
      "--------------------------------------------\n",
      " 0   0.387420489 |             | 0.380000000\n",
      " 1   0.387420489 | 0.387420489 | 0.395000000\n",
      " 2   0.172186884 | 0.172186884 | 0.175000000\n",
      " 3   0.044641044 | 0.044641044 | 0.045000000\n",
      " 4   0.007440174 | 0.007440174 | 0.005000000\n",
      " 5   0.000826686 | 0.000826686 | 0.000000000\n",
      " 6   0.000061236 | 0.000061236 | 0.000000000\n",
      " 7   0.000002916 | 0.000002916 | 0.000000000\n",
      " 8   0.000000081 | 0.000000081 | 0.000000000\n",
      " 9   0.000000001 | 0.000000001 | 0.000000000\n"
     ]
    }
   ],
   "source": [
    "N = 9\n",
    "p = 1/10\n",
    "q = 1-p\n",
    "\n",
    "print(\"Seçilen bir rakamın 9 rakamlı bir sayıda n kere çıkma ihtimali:\\n\")\n",
    "\n",
    "print(\"{:^4s} {:^11s} | {:^11s} | {:^11s}\"\\\n",
    "      .format(\"n\",\"Binom\",\"Özyineleme\",\"Örnek\"))\n",
    "print(\"-\"*44)\n",
    "n = 0\n",
    "olasilik_n_binom = special.comb(N,n)*p**n*q**(N-n)\n",
    "P_Np_n = olasilik_n_binom\n",
    "print(\"{:^4d} {:.9f} | {:11s} | {:.9f}\"\\\n",
    "         .format(n,olasilik_n_binom,\"\",cizelge_1_olasiliklar_ortalama.loc[n]))\n",
    "\n",
    "for n in range(1,10):\n",
    "    olasilik_n_binom = special.comb(N,n)*p**n*q**(N-n)\n",
    "    olasilik_n_ozyineleme = p * (N-(n-1)) / (q*((n-1)+1))*P_Np_n\n",
    "    print(\"{:^4d} {:.9f} | {:.9f} | {:.9f}\"\\\n",
    "         .format(n,olasilik_n_binom,olasilik_n_ozyineleme,\\\n",
    "                 cizelge_1_olasiliklar_ortalama.loc[n]))\n",
    "    P_Np_n = olasilik_n_ozyineleme"
   ]
  },
  {
   "cell_type": "markdown",
   "id": "6bf244b8",
   "metadata": {},
   "source": [
    ">3. Şimdi 9 rakamlı gelişigüzel sayı gruplarındaki sayıların dağılımı için Poisson yaklaşıklığını ele alalım. $N = 9$, $p = 1/10$ olup $a = Np = 0,9$'dur. Poisson dağılımını kullanarak $n$'nin 0'dan 9'a kadar olan değerleri için olasılıkları yeniden hesaplayın. Hiç kuşkusuz $N = 9$, $N = \\infty$'dan çok uzak olduğundan kesin bir uyuşma beklememeliyiz, fakat yine de karşılaştırma ilgi çekicidir."
   ]
  },
  {
   "cell_type": "code",
   "execution_count": 21,
   "id": "08027ff9",
   "metadata": {},
   "outputs": [
    {
     "name": "stdout",
     "output_type": "stream",
     "text": [
      "0"
     ]
    },
    {
     "name": "stdout",
     "output_type": "stream",
     "text": [
      " 0.4065696597405991\n",
      "1 0.36591269376653923\n",
      "2 0.16466071219494266\n",
      "3 0.0493982136584828\n",
      "4 0.011114598073158628\n",
      "5 0.002000627653168553\n",
      "6 0.000300094147975283\n",
      "7 3.858353331110782e-05\n",
      "8 4.340647497499629e-06\n",
      "9 4.3406474974996295e-07\n"
     ]
    }
   ],
   "source": [
    "N = 9\n",
    "p = 1/10\n",
    "a = N*p\n",
    "\n",
    "for n in range(10):\n",
    "    poisson = a**n*np.exp(-a) / special.factorial(n)\n",
    "    print(n,poisson)"
   ]
  },
  {
   "cell_type": "code",
   "execution_count": 22,
   "id": "feb03c20",
   "metadata": {},
   "outputs": [
    {
     "name": "stdout",
     "output_type": "stream",
     "text": [
      "Seçilen bir rakamın 9 rakamlı bir sayıda n kere çıkma ihtimali:\n",
      "\n",
      " n      Binom    |    Örnek    |   Poisson  \n",
      "--------------------------------------------\n",
      " 0   0.387420489 | 0.380000000 | 0.406569660\n",
      " 1   0.387420489 | 0.395000000 | 0.365912694\n",
      " 2   0.172186884 | 0.175000000 | 0.164660712\n",
      " 3   0.044641044 | 0.045000000 | 0.049398214\n",
      " 4   0.007440174 | 0.005000000 | 0.011114598\n",
      " 5   0.000826686 | 0.000000000 | 0.002000628\n",
      " 6   0.000061236 | 0.000000000 | 0.000300094\n",
      " 7   0.000002916 | 0.000000000 | 0.000038584\n",
      " 8   0.000000081 | 0.000000000 | 0.000004341\n",
      " 9   0.000000001 | 0.000000000 | 0.000000434\n"
     ]
    }
   ],
   "source": [
    "N = 9\n",
    "p = 1/10\n",
    "q = 1-p\n",
    "\n",
    "print(\"Seçilen bir rakamın 9 rakamlı bir sayıda n kere çıkma ihtimali:\\n\")\n",
    "\n",
    "print(\"{:^4s} {:^11s} | {:^11s} | {:^11s}\"\\\n",
    "      .format(\"n\",\"Binom\",\"Örnek\",\"Poisson\"))\n",
    "print(\"-\"*44)\n",
    "\n",
    "dizi_binom = []\n",
    "dizi_ornek = []\n",
    "dizi_poisson = []\n",
    "\n",
    "for n in range(0,10):\n",
    "    olasilik_n_binom = special.comb(N,n)*p**n*q**(N-n)\n",
    "    poisson = a**n*np.exp(-a) / special.factorial(n)\n",
    "    print(\"{:^4d} {:.9f} | {:.9f} | {:.9f}\"\\\n",
    "         .format(n,olasilik_n_binom,\\\n",
    "                 cizelge_1_olasiliklar_ortalama.loc[n],poisson))\n",
    "    dizi_binom.append(olasilik_n_binom)\n",
    "    dizi_ornek.append(cizelge_1_olasiliklar_ortalama.loc[n])\n",
    "    dizi_poisson.append(poisson)"
   ]
  },
  {
   "cell_type": "code",
   "execution_count": 23,
   "id": "a056a1c1",
   "metadata": {},
   "outputs": [
    {
     "data": {
      "image/png": "[encoded data removed]",
      "text/plain": [
       "<Figure size 432x288 with 1 Axes>"
      ]
     },
     "metadata": {
      "filenames": {
       "image/png": "/stmp/code/books/Stuff/_build/jupyter_execute/FIZ302_IstatistikLab_BinomPoisson_38_0.png"
      },
      "needs_background": "light"
     },
     "output_type": "display_data"
    }
   ],
   "source": [
    "n = range(10)\n",
    "plt.plot(n,dizi_binom,\"*\",markerfacecolor=\"none\")\n",
    "plt.plot(n,dizi_ornek,\"x\")\n",
    "plt.plot(n,dizi_poisson,\"o\",markerfacecolor=\"none\")\n",
    "plt.legend([\"Binom\",\"Örnek\",\"Poisson\"])\n",
    "plt.show()"
   ]
  },
  {
   "cell_type": "code",
   "execution_count": null,
   "id": "35f9b815",
   "metadata": {},
   "outputs": [],
   "source": []
  }
 ],
 "metadata": {
  "jupytext": {
   "formats": "ipynb,md:myst",
   "text_representation": {
    "extension": ".md",
    "format_name": "myst",
    "format_version": 0.13,
    "jupytext_version": "1.11.5"
   }
  },
  "kernelspec": {
   "display_name": "Python 3 (ipykernel)",
   "language": "python",
   "name": "python3"
  },
  "language_info": {
   "codemirror_mode": {
    "name": "ipython",
    "version": 3
   },
   "file_extension": ".py",
   "mimetype": "text/x-python",
   "name": "python",
   "nbconvert_exporter": "python",
   "pygments_lexer": "ipython3",
   "version": "3.8.5"
  },
  "source_map": [
   15,
   20,
   26,
   30,
   36,
   43,
   54,
   58,
   62,
   68,
   72,
   85,
   89,
   97,
   106,
   123,
   130,
   137,
   142,
   149,
   161,
   171,
   182,
   186,
   191,
   196,
   217,
   238,
   243,
   247,
   252,
   259,
   263,
   273,
   283,
   306,
   310,
   320,
   346,
   355
  ]
 },
 "nbformat": 4,
 "nbformat_minor": 5
}