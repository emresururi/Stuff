{
 "cells": [
  {
   "cell_type": "markdown",
   "id": "82ce6197",
   "metadata": {},
   "source": [
    "# Binom ve Poisson Dağılımları\n",
    "\n",
    "FİZ302 - İstatistik Fizik Lab IV \"Binom ve Poisson Dağılımları\" deneyinin simülasyonu.\n",
    "\n",
    "Dr. Emre S. Taşcı, emre.tasci@hacettepe.edu.tr  \n",
    "Fizik Mühendisliği Bölümü  \n",
    "Hacettepe Üniversitesi\n",
    "\n",
    "Haziran 2024"
   ]
  },
  {
   "cell_type": "code",
   "execution_count": 1,
   "id": "bbb1ac73",
   "metadata": {},
   "outputs": [],
   "source": [
    "import numpy as np\n",
    "from scipy import special\n",
    "import pandas as pd\n",
    "import matplotlib.pyplot as plt"
   ]
  },
  {
   "cell_type": "markdown",
   "id": "0e88297d",
   "metadata": {},
   "source": [
    "## Binom Dağılımı\n",
    "\n",
    "$$P_{N,p} = p^n q^{N-n}\\begin{bmatrix}N\\\\n\\end{bmatrix}=p^n q^{N-n}\\frac{N!}{(N-n)!n!}$$"
   ]
  },
  {
   "cell_type": "markdown",
   "id": "c54d2cd3",
   "metadata": {},
   "source": [
    ">Genelleştirilmiş olasılık formülünün basit bir uygulaması olarak birkaç tane yirmi yüzlü _(0'dan 9'a her rakamın iki kere yer aldığı)_ zarın atıldığını düşünelim: Örneğin böyle 3 zarı attığımız zaman, iki 7 elde etme olasılığı nedir? Her ayrı olay için p olasılığı 1/10, N = 3 ve n = 2'dir. Buna göre olasılık 0.027'dir."
   ]
  },
  {
   "cell_type": "code",
   "execution_count": 2,
   "id": "6b4fa7a3",
   "metadata": {},
   "outputs": [
    {
     "data": {
      "text/plain": [
       "0.027000000000000007"
      ]
     },
     "execution_count": 2,
     "metadata": {},
     "output_type": "execute_result"
    }
   ],
   "source": [
    "p = 1/10\n",
    "q = 1 - p\n",
    "N = 3\n",
    "n = 2\n",
    "special.comb(N,n)*p**n*q**(N-n)"
   ]
  },
  {
   "cell_type": "markdown",
   "id": "0257882d",
   "metadata": {},
   "source": [
    "Binom dağılımda:\n",
    "\n",
    "$$\\bar n = Np\\\\\n",
    "\\sigma^2 = Npq$$"
   ]
  },
  {
   "cell_type": "markdown",
   "id": "1b664c37",
   "metadata": {},
   "source": [
    "## Poisson Dağılımı\n",
    "\n",
    "$a = Np$ ve $N\\gg$ ile $p\\ll$ olmak üzere:\n",
    "\n",
    "$$P_a(n) = \\frac{a^ne^{-a}}{n!}$$\n",
    "\n",
    "$$\\bar n = a\\\\\n",
    "\\sigma^2 = a$$"
   ]
  },
  {
   "cell_type": "markdown",
   "id": "22f7a42a",
   "metadata": {},
   "source": [
    "## Deney"
   ]
  },
  {
   "cell_type": "markdown",
   "id": "77be14d2",
   "metadata": {},
   "source": [
    ">Yirmi yüzlü üç zardan elde edilen sayıları Çizelge 1 ‘e geçirerek 360 rakamlı bir gelişigüzel sayılar çizelgesi kurun."
   ]
  },
  {
   "cell_type": "code",
   "execution_count": 3,
   "id": "a1e2bcc6",
   "metadata": {},
   "outputs": [
    {
     "data": {
      "text/plain": [
       "array([[4, 2, 9, 2, 1, 9, 9, 7, 8, 8, 1, 0, 0, 5, 4, 5, 8, 4, 4, 3, 1, 9,\n",
       "        0, 5],\n",
       "       [4, 8, 3, 6, 5, 5, 2, 3, 9, 1, 7, 9, 8, 4, 0, 2, 3, 6, 5, 8, 7, 7,\n",
       "        0, 1],\n",
       "       [9, 5, 0, 9, 2, 7, 2, 4, 5, 0, 2, 2, 6, 9, 7, 5, 4, 3, 7, 6, 2, 3,\n",
       "        4, 9],\n",
       "       [1, 1, 6, 6, 9, 6, 3, 5, 6, 7, 8, 7, 6, 7, 7, 4, 9, 1, 0, 2, 8, 1,\n",
       "        6, 3],\n",
       "       [7, 7, 9, 1, 5, 7, 1, 5, 9, 5, 4, 4, 2, 1, 1, 8, 4, 0, 2, 6, 8, 1,\n",
       "        4, 5],\n",
       "       [8, 2, 4, 8, 6, 9, 1, 2, 2, 3, 5, 0, 7, 5, 2, 0, 8, 9, 3, 8, 6, 2,\n",
       "        9, 4],\n",
       "       [3, 0, 8, 1, 3, 5, 7, 9, 2, 8, 2, 6, 7, 3, 8, 8, 3, 9, 1, 0, 6, 8,\n",
       "        7, 2],\n",
       "       [6, 7, 6, 0, 7, 0, 7, 2, 5, 3, 0, 8, 6, 3, 5, 6, 9, 3, 6, 0, 5, 2,\n",
       "        5, 9],\n",
       "       [4, 4, 5, 9, 5, 3, 7, 3, 2, 9, 6, 8, 4, 1, 2, 1, 6, 5, 4, 3, 1, 4,\n",
       "        7, 1],\n",
       "       [7, 8, 9, 0, 9, 2, 8, 9, 5, 4, 2, 2, 0, 9, 6, 0, 1, 5, 6, 1, 4, 0,\n",
       "        1, 8],\n",
       "       [4, 4, 1, 8, 7, 6, 0, 1, 5, 2, 7, 2, 2, 7, 4, 1, 9, 4, 4, 4, 4, 2,\n",
       "        4, 1],\n",
       "       [8, 1, 8, 9, 6, 1, 4, 6, 8, 1, 2, 2, 1, 5, 4, 1, 7, 4, 7, 7, 5, 9,\n",
       "        9, 3],\n",
       "       [3, 2, 9, 7, 0, 3, 3, 3, 3, 8, 3, 9, 8, 7, 0, 4, 0, 8, 3, 4, 0, 0,\n",
       "        0, 8],\n",
       "       [2, 5, 5, 0, 0, 0, 0, 2, 6, 0, 0, 6, 0, 9, 0, 6, 9, 9, 8, 1, 0, 7,\n",
       "        3, 4],\n",
       "       [2, 0, 6, 0, 5, 6, 4, 3, 3, 9, 7, 0, 5, 0, 3, 8, 5, 7, 1, 0, 7, 9,\n",
       "        5, 3]])"
      ]
     },
     "execution_count": 3,
     "metadata": {},
     "output_type": "execute_result"
    }
   ],
   "source": [
    "n_satir = 15\n",
    "n_sutun = 24\n",
    "N = n_satir * n_sutun\n",
    "rakamlar = np.random.randint(0,10,(n_satir,n_sutun))\n",
    "rakamlar"
   ]
  },
  {
   "cell_type": "markdown",
   "id": "2f4299e4",
   "metadata": {},
   "source": [
    "### Çizelge 1 (Olasılık Dağılımı Deneyi)"
   ]
  },
  {
   "cell_type": "code",
   "execution_count": 4,
   "id": "23d7fb20",
   "metadata": {},
   "outputs": [
    {
     "name": "stdout",
     "output_type": "stream",
     "text": [
      "| 4 2 9 | 2 1 9 | 9 7 8 | 8 1 0 | 0 5 4 | 5 8 4 | 4 3 1 | 9 0 5 | \n",
      "| 4 8 3 | 6 5 5 | 2 3 9 | 1 7 9 | 8 4 0 | 2 3 6 | 5 8 7 | 7 0 1 | \n",
      "| 9 5 0 | 9 2 7 | 2 4 5 | 0 2 2 | 6 9 7 | 5 4 3 | 7 6 2 | 3 4 9 | \n",
      "-----------------------------------------------------------------\n",
      "| 1 1 6 | 6 9 6 | 3 5 6 | 7 8 7 | 6 7 7 | 4 9 1 | 0 2 8 | 1 6 3 | \n",
      "| 7 7 9 | 1 5 7 | 1 5 9 | 5 4 4 | 2 1 1 | 8 4 0 | 2 6 8 | 1 4 5 | \n",
      "| 8 2 4 | 8 6 9 | 1 2 2 | 3 5 0 | 7 5 2 | 0 8 9 | 3 8 6 | 2 9 4 | \n",
      "-----------------------------------------------------------------\n",
      "| 3 0 8 | 1 3 5 | 7 9 2 | 8 2 6 | 7 3 8 | 8 3 9 | 1 0 6 | 8 7 2 | \n",
      "| 6 7 6 | 0 7 0 | 7 2 5 | 3 0 8 | 6 3 5 | 6 9 3 | 6 0 5 | 2 5 9 | \n",
      "| 4 4 5 | 9 5 3 | 7 3 2 | 9 6 8 | 4 1 2 | 1 6 5 | 4 3 1 | 4 7 1 | \n",
      "-----------------------------------------------------------------\n",
      "| 7 8 9 | 0 9 2 | 8 9 5 | 4 2 2 | 0 9 6 | 0 1 5 | 6 1 4 | 0 1 8 | \n",
      "| 4 4 1 | 8 7 6 | 0 1 5 | 2 7 2 | 2 7 4 | 1 9 4 | 4 4 4 | 2 4 1 | \n",
      "| 8 1 8 | 9 6 1 | 4 6 8 | 1 2 2 | 1 5 4 | 1 7 4 | 7 7 5 | 9 9 3 | \n",
      "-----------------------------------------------------------------\n",
      "| 3 2 9 | 7 0 3 | 3 3 3 | 8 3 9 | 8 7 0 | 4 0 8 | 3 4 0 | 0 0 8 | \n",
      "| 2 5 5 | 0 0 0 | 0 2 6 | 0 0 6 | 0 9 0 | 6 9 9 | 8 1 0 | 7 3 4 | \n",
      "| 2 0 6 | 0 5 6 | 4 3 3 | 9 7 0 | 5 0 3 | 8 5 7 | 1 0 7 | 9 5 3 | \n",
      "-----------------------------------------------------------------\n"
     ]
    }
   ],
   "source": [
    "for i in range(n_satir):\n",
    "    print(\"| \",end=\"\")\n",
    "    for j in range(n_sutun):\n",
    "        print(\"{:d}\".format(rakamlar[i,j]),end=\" \")\n",
    "        if((j+1)%3==0):\n",
    "            print(\"|\",end=\" \")\n",
    "    if((i+1)%3 == 0):\n",
    "        print(\"\")\n",
    "        print(\"-\"*(n_sutun*2+(int)(n_sutun/2)+5))\n",
    "    else:\n",
    "        print(\"\")\n",
    "    "
   ]
  },
  {
   "cell_type": "markdown",
   "id": "2e248061",
   "metadata": {},
   "source": [
    "### Çizelge 2A (Olasılık Dağılımı Deneyi)"
   ]
  },
  {
   "cell_type": "code",
   "execution_count": 5,
   "id": "9f631b9e",
   "metadata": {},
   "outputs": [
    {
     "name": "stdout",
     "output_type": "stream",
     "text": [
      " Sayı  Frekans   Olasılık \n",
      "-------------------------\n",
      "  0       42     0.11667  \n",
      "  1       35     0.09722  \n",
      "  2       37     0.10278  \n",
      "  3       33     0.09167  \n",
      "  4       38     0.10556  \n",
      "  5       35     0.09722  \n",
      "  6       32     0.08889  \n",
      "  7       36     0.10000  \n",
      "  8       34     0.09444  \n",
      "  9       38     0.10556  \n"
     ]
    }
   ],
   "source": [
    "print(\"{:^6s} {:^8s} {:^10s}\".format(\"Sayı\",\"Frekans\",\"Olasılık\"))\n",
    "print(\"-\"*25)\n",
    "for i in range(10):\n",
    "    toplam = np.sum(i==rakamlar)\n",
    "    print(\"{:^6d} {:^8d} {:^10.5f}\".format(i,toplam,toplam/(n_satir*n_sutun)))"
   ]
  },
  {
   "cell_type": "code",
   "execution_count": 6,
   "id": "512fae9a",
   "metadata": {},
   "outputs": [
    {
     "name": "stdout",
     "output_type": "stream",
     "text": [
      "Ortalama: 4.4250\n",
      "Varyans : 8.5666\n"
     ]
    }
   ],
   "source": [
    "# Hazır fonksiyonlar kullanarak\n",
    "ortalama = rakamlar.mean()\n",
    "varyans = rakamlar.var()\n",
    "\n",
    "print(\"Ortalama: {:.4f}\".format(ortalama))\n",
    "print(\"Varyans : {:.4f}\".format(varyans))"
   ]
  },
  {
   "cell_type": "code",
   "execution_count": 7,
   "id": "e49e9bf9",
   "metadata": {},
   "outputs": [
    {
     "name": "stdout",
     "output_type": "stream",
     "text": [
      "Ortalama: 4.4250 (formul)\n",
      "Varyans : 8.5666 (formul)\n"
     ]
    }
   ],
   "source": [
    "# Formül kullanarak\n",
    "rakamlar_tum = rakamlar.flatten()\n",
    "toplam_aux = 0\n",
    "for n_i in rakamlar_tum:\n",
    "    toplam_aux += n_i\n",
    "ortalama_formul = toplam_aux / N\n",
    "\n",
    "varyans_aux = 0\n",
    "for n_i in rakamlar_tum:\n",
    "    varyans_aux += (n_i - ortalama_formul)**2\n",
    "varyans_formul = varyans_aux / N\n",
    "\n",
    "print(\"Ortalama: {:.4f} (formul)\".format(ortalama_formul))\n",
    "print(\"Varyans : {:.4f} (formul)\".format(varyans_formul))"
   ]
  },
  {
   "cell_type": "code",
   "execution_count": 8,
   "id": "9c659a25",
   "metadata": {},
   "outputs": [
    {
     "data": {
      "image/png": "[encoded data removed]",
      "text/plain": [
       "<Figure size 432x288 with 1 Axes>"
      ]
     },
     "metadata": {
      "filenames": {
       "image/png": "/stmp/code/books/Stuff/_build/jupyter_execute/FIZ302_IstatistikLab_BinomPoisson_16_0.png"
      },
      "needs_background": "light"
     },
     "output_type": "display_data"
    }
   ],
   "source": [
    "plt.hist(rakamlar_tum,bins=np.arange(11),edgecolor=\"red\")\n",
    "plt.xticks(np.arange(10)+0.5,range(10)) # x değerleri tam ortada çıksın diye\n",
    "                                        # yarım birim sağa öteliyoruz\n",
    "plt.xlabel(\"Rakam\")\n",
    "plt.ylabel(\"Frekans\")\n",
    "plt.show()"
   ]
  },
  {
   "cell_type": "markdown",
   "id": "db35fac7",
   "metadata": {},
   "source": [
    "## Deney\n",
    "\n",
    ">1. Deney 4 için hazırlanan gelişigüzel sayılar çizelgesi binom ve Poisson dağılımları için\n",
    "ilginç örnekler verir. Yirmi yüzlü zar ile elde edilen üç-rakamlı gelişigüzel sayıları alarak her üç gruptaki 7'lerin sayısı için bir frekans sayımı yapın. Yani, üç rakamlı sayılardan kaç tanesinde hiç 7 yoktur; bir tane 7, iki 7 veya üç 7 kaç tanesinde var? Sonuçlarınızı ana binom dağılımına göre beklediklerinizle karşılaştırın. Örnek ortalamasını ve variansı hesaplayıp ana binom dağılımındaki değerlerle karşılaştırın."
   ]
  },
  {
   "cell_type": "code",
   "execution_count": 9,
   "id": "6bc886b8",
   "metadata": {},
   "outputs": [
    {
     "data": {
      "text/plain": [
       "array([[4, 2, 9],\n",
       "       [2, 1, 9],\n",
       "       [9, 7, 8],\n",
       "       [8, 1, 0],\n",
       "       [0, 5, 4],\n",
       "       [5, 8, 4],\n",
       "       [4, 3, 1],\n",
       "       [9, 0, 5],\n",
       "       [4, 8, 3],\n",
       "       [6, 5, 5]])"
      ]
     },
     "execution_count": 9,
     "metadata": {},
     "output_type": "execute_result"
    }
   ],
   "source": [
    "sayilar = rakamlar_tum.reshape((int)(N/3),3)\n",
    "sayilar[:10,:]"
   ]
  },
  {
   "cell_type": "code",
   "execution_count": 10,
   "id": "9d665f63",
   "metadata": {},
   "outputs": [
    {
     "name": "stdout",
     "output_type": "stream",
     "text": [
      "054 sayısındaki 7 adedi: 0\n"
     ]
    }
   ],
   "source": [
    "k = 7\n",
    "sayi =  sayilar[4,:]\n",
    "sayi_str = \"\".join(sayi.astype(\"str\"))\n",
    "print(\"{:3s} sayısındaki {:d} adedi: {:d}\".format(sayi_str,k,np.sum(k==sayi)))"
   ]
  },
  {
   "cell_type": "code",
   "execution_count": 11,
   "id": "456f8a67",
   "metadata": {},
   "outputs": [
    {
     "name": "stdout",
     "output_type": "stream",
     "text": [
      "İçinde 0 tane 7 olan sayı adedi: 88\t(Olasılık: 0.73333)\n",
      "İçinde 1 tane 7 olan sayı adedi: 28\t(Olasılık: 0.23333)\n",
      "İçinde 2 tane 7 olan sayı adedi: 4\t(Olasılık: 0.03333)\n",
      "İçinde 3 tane 7 olan sayı adedi: 0\t(Olasılık: 0.00000)\n",
      "\n",
      "Toplam sayı adedi: 120\n"
     ]
    }
   ],
   "source": [
    "k_toplam = np.zeros(4,int)\n",
    "\n",
    "for i in range(sayilar.shape[0]):\n",
    "    sayi =  sayilar[i,:]\n",
    "    k_toplam[np.sum(k==sayi)] += 1\n",
    "\n",
    "for i in range(4):\n",
    "    print(\"İçinde {:d} tane {:d} olan sayı adedi: {:d}\".format(i,k,k_toplam[i]),end=\"\\t\")\n",
    "    print(\"(Olasılık: {:.5f})\".format(k_toplam[i]/sayilar.shape[0]))\n",
    "    \n",
    "print(\"\\nToplam sayı adedi: {:d}\".format(sayilar.shape[0]))"
   ]
  },
  {
   "cell_type": "markdown",
   "id": "269dd3f8",
   "metadata": {},
   "source": [
    "### Sonuçların binom dağılımına göre karşılaştırılması\n",
    "\n",
    "Binom dağılımına göre karşılaştırırken sormamız gereken soru: \n",
    "\n",
    "\"Rastgele 3 rakam çekilirse, bunların $n$ $(n=0,1,2,3)$ tanesinin 7 olma olasılığı nedir?\"\n",
    "\n",
    "şeklindedir."
   ]
  },
  {
   "cell_type": "code",
   "execution_count": 12,
   "id": "1d399371",
   "metadata": {},
   "outputs": [
    {
     "name": "stdout",
     "output_type": "stream",
     "text": [
      "Rastgele çekilen 3 rakamdan 0 tanesinin 7 olma ihtimali: 0.72900\n",
      "Rastgele çekilen 3 rakamdan 1 tanesinin 7 olma ihtimali: 0.24300\n",
      "Rastgele çekilen 3 rakamdan 2 tanesinin 7 olma ihtimali: 0.02700\n",
      "Rastgele çekilen 3 rakamdan 3 tanesinin 7 olma ihtimali: 0.00100\n"
     ]
    }
   ],
   "source": [
    "N = 3\n",
    "p = 1/10\n",
    "q = 1 - p\n",
    "\n",
    "for n in range(4):\n",
    "    olasilik_n = special.comb(N,n)*p**n*q**(N-n)\n",
    "    print(\"Rastgele çekilen 3 rakamdan {:d} tanesinin {:d} olma ihtimali: {:.5f}\"\\\n",
    "         .format(n,k,olasilik_n))\n",
    "    \n",
    "    "
   ]
  },
  {
   "cell_type": "markdown",
   "id": "aa7faed2",
   "metadata": {},
   "source": [
    "### 9 rakamlı gruplar"
   ]
  },
  {
   "cell_type": "markdown",
   "id": "6c097060",
   "metadata": {},
   "source": [
    ">2. Şimdi de gelişigüzel sayılar çizelgesindeki dokuz rakamlı grupları alalım. 9 rakamlı\n",
    "grupların her birindeki 7'lerin sayısı için frekans sayımı yapın; çizelgede böyle 40 grup bulunmaktadır. Sonuçlarınızı Çizelge 1’ e geçirin."
   ]
  },
  {
   "cell_type": "code",
   "execution_count": 13,
   "id": "88b95547",
   "metadata": {},
   "outputs": [
    {
     "data": {
      "text/plain": [
       "array([[4, 2, 9, 2, 1, 9, 9, 7, 8],\n",
       "       [8, 1, 0, 0, 5, 4, 5, 8, 4],\n",
       "       [4, 3, 1, 9, 0, 5, 4, 8, 3],\n",
       "       [6, 5, 5, 2, 3, 9, 1, 7, 9],\n",
       "       [8, 4, 0, 2, 3, 6, 5, 8, 7],\n",
       "       [7, 0, 1, 9, 5, 0, 9, 2, 7],\n",
       "       [2, 4, 5, 0, 2, 2, 6, 9, 7],\n",
       "       [5, 4, 3, 7, 6, 2, 3, 4, 9],\n",
       "       [1, 1, 6, 6, 9, 6, 3, 5, 6],\n",
       "       [7, 8, 7, 6, 7, 7, 4, 9, 1]])"
      ]
     },
     "execution_count": 13,
     "metadata": {},
     "output_type": "execute_result"
    }
   ],
   "source": [
    "sayilar_9 = rakamlar.reshape(40,9)\n",
    "sayilar_9[:10,:]"
   ]
  },
  {
   "cell_type": "code",
   "execution_count": 14,
   "id": "a947825a",
   "metadata": {},
   "outputs": [
    {
     "data": {
      "text/html": [
       "<div>\n",
       "<style scoped>\n",
       "    .dataframe tbody tr th:only-of-type {\n",
       "        vertical-align: middle;\n",
       "    }\n",
       "\n",
       "    .dataframe tbody tr th {\n",
       "        vertical-align: top;\n",
       "    }\n",
       "\n",
       "    .dataframe thead th {\n",
       "        text-align: right;\n",
       "    }\n",
       "</style>\n",
       "<table border=\"1\" class=\"dataframe\">\n",
       "  <thead>\n",
       "    <tr style=\"text-align: right;\">\n",
       "      <th></th>\n",
       "      <th>0</th>\n",
       "      <th>1</th>\n",
       "      <th>2</th>\n",
       "      <th>3</th>\n",
       "      <th>4</th>\n",
       "      <th>5</th>\n",
       "      <th>6</th>\n",
       "      <th>7</th>\n",
       "      <th>8</th>\n",
       "      <th>9</th>\n",
       "    </tr>\n",
       "    <tr>\n",
       "      <th>Sayı</th>\n",
       "      <th></th>\n",
       "      <th></th>\n",
       "      <th></th>\n",
       "      <th></th>\n",
       "      <th></th>\n",
       "      <th></th>\n",
       "      <th></th>\n",
       "      <th></th>\n",
       "      <th></th>\n",
       "      <th></th>\n",
       "    </tr>\n",
       "  </thead>\n",
       "  <tbody>\n",
       "    <tr>\n",
       "      <th>0</th>\n",
       "      <td>0</td>\n",
       "      <td>1</td>\n",
       "      <td>2</td>\n",
       "      <td>0</td>\n",
       "      <td>1</td>\n",
       "      <td>0</td>\n",
       "      <td>0</td>\n",
       "      <td>1</td>\n",
       "      <td>1</td>\n",
       "      <td>3</td>\n",
       "    </tr>\n",
       "    <tr>\n",
       "      <th>1</th>\n",
       "      <td>2</td>\n",
       "      <td>1</td>\n",
       "      <td>0</td>\n",
       "      <td>0</td>\n",
       "      <td>2</td>\n",
       "      <td>2</td>\n",
       "      <td>0</td>\n",
       "      <td>0</td>\n",
       "      <td>2</td>\n",
       "      <td>0</td>\n",
       "    </tr>\n",
       "    <tr>\n",
       "      <th>2</th>\n",
       "      <td>1</td>\n",
       "      <td>1</td>\n",
       "      <td>0</td>\n",
       "      <td>2</td>\n",
       "      <td>2</td>\n",
       "      <td>1</td>\n",
       "      <td>0</td>\n",
       "      <td>0</td>\n",
       "      <td>1</td>\n",
       "      <td>1</td>\n",
       "    </tr>\n",
       "    <tr>\n",
       "      <th>3</th>\n",
       "      <td>0</td>\n",
       "      <td>1</td>\n",
       "      <td>1</td>\n",
       "      <td>1</td>\n",
       "      <td>0</td>\n",
       "      <td>2</td>\n",
       "      <td>1</td>\n",
       "      <td>1</td>\n",
       "      <td>0</td>\n",
       "      <td>2</td>\n",
       "    </tr>\n",
       "    <tr>\n",
       "      <th>4</th>\n",
       "      <td>1</td>\n",
       "      <td>0</td>\n",
       "      <td>1</td>\n",
       "      <td>1</td>\n",
       "      <td>1</td>\n",
       "      <td>1</td>\n",
       "      <td>1</td>\n",
       "      <td>1</td>\n",
       "      <td>2</td>\n",
       "      <td>0</td>\n",
       "    </tr>\n",
       "    <tr>\n",
       "      <th>5</th>\n",
       "      <td>2</td>\n",
       "      <td>1</td>\n",
       "      <td>1</td>\n",
       "      <td>0</td>\n",
       "      <td>0</td>\n",
       "      <td>1</td>\n",
       "      <td>0</td>\n",
       "      <td>2</td>\n",
       "      <td>0</td>\n",
       "      <td>2</td>\n",
       "    </tr>\n",
       "    <tr>\n",
       "      <th>6</th>\n",
       "      <td>1</td>\n",
       "      <td>0</td>\n",
       "      <td>3</td>\n",
       "      <td>0</td>\n",
       "      <td>1</td>\n",
       "      <td>1</td>\n",
       "      <td>1</td>\n",
       "      <td>1</td>\n",
       "      <td>0</td>\n",
       "      <td>1</td>\n",
       "    </tr>\n",
       "    <tr>\n",
       "      <th>7</th>\n",
       "      <td>0</td>\n",
       "      <td>0</td>\n",
       "      <td>1</td>\n",
       "      <td>2</td>\n",
       "      <td>2</td>\n",
       "      <td>1</td>\n",
       "      <td>1</td>\n",
       "      <td>1</td>\n",
       "      <td>0</td>\n",
       "      <td>1</td>\n",
       "    </tr>\n",
       "    <tr>\n",
       "      <th>8</th>\n",
       "      <td>0</td>\n",
       "      <td>2</td>\n",
       "      <td>0</td>\n",
       "      <td>1</td>\n",
       "      <td>0</td>\n",
       "      <td>1</td>\n",
       "      <td>4</td>\n",
       "      <td>0</td>\n",
       "      <td>0</td>\n",
       "      <td>1</td>\n",
       "    </tr>\n",
       "    <tr>\n",
       "      <th>9</th>\n",
       "      <td>0</td>\n",
       "      <td>1</td>\n",
       "      <td>0</td>\n",
       "      <td>0</td>\n",
       "      <td>1</td>\n",
       "      <td>0</td>\n",
       "      <td>1</td>\n",
       "      <td>4</td>\n",
       "      <td>1</td>\n",
       "      <td>1</td>\n",
       "    </tr>\n",
       "    <tr>\n",
       "      <th>10</th>\n",
       "      <td>1</td>\n",
       "      <td>1</td>\n",
       "      <td>1</td>\n",
       "      <td>1</td>\n",
       "      <td>0</td>\n",
       "      <td>0</td>\n",
       "      <td>1</td>\n",
       "      <td>2</td>\n",
       "      <td>1</td>\n",
       "      <td>1</td>\n",
       "    </tr>\n",
       "  </tbody>\n",
       "</table>\n",
       "</div>"
      ],
      "text/plain": [
       "      0  1  2  3  4  5  6  7  8  9\n",
       "Sayı                              \n",
       "0     0  1  2  0  1  0  0  1  1  3\n",
       "1     2  1  0  0  2  2  0  0  2  0\n",
       "2     1  1  0  2  2  1  0  0  1  1\n",
       "3     0  1  1  1  0  2  1  1  0  2\n",
       "4     1  0  1  1  1  1  1  1  2  0\n",
       "5     2  1  1  0  0  1  0  2  0  2\n",
       "6     1  0  3  0  1  1  1  1  0  1\n",
       "7     0  0  1  2  2  1  1  1  0  1\n",
       "8     0  2  0  1  0  1  4  0  0  1\n",
       "9     0  1  0  0  1  0  1  4  1  1\n",
       "10    1  1  1  1  0  0  1  2  1  1"
      ]
     },
     "execution_count": 14,
     "metadata": {},
     "output_type": "execute_result"
    }
   ],
   "source": [
    "# Her bir sayıyı oluşturan rakamlardan kaçar tane\n",
    "# olduğunu tutan çizelge\n",
    "\n",
    "# Örneğin cizelge_1_aux.loc[4,6]: 4 indisli sayıda kaç adet \n",
    "# 6 olduğunu vermekte\n",
    "\n",
    "# Benzer şekilde, cizelge_1_aux.loc[6,0]: 6 indisli sayıda \n",
    "# kaç adet 0 olduğunu vermekte\n",
    "\n",
    "sayilar_9_adedi = sayilar_9.shape[0]\n",
    "cizelge_1_aux_np = np.zeros((sayilar_9_adedi,10),int)\n",
    "for i in range(sayilar_9_adedi):\n",
    "    for rakam in range(10):\n",
    "        cizelge_1_aux_np[i,rakam] = np.sum(rakam==sayilar_9[i,:])\n",
    "        \n",
    "cizelge_1_aux = pd.DataFrame(cizelge_1_aux_np)\n",
    "cizelge_1_aux.index.names=[\"Sayı\"]\n",
    "cizelge_1_aux.loc[:10,:]"
   ]
  },
  {
   "cell_type": "code",
   "execution_count": 15,
   "id": "f5097c7d",
   "metadata": {},
   "outputs": [],
   "source": [
    "# Bu da hangi rakamın bir sayıda kaç kere çıkmış\n",
    "# olduğunu tutan çizelge (Çizelge 1)\n",
    "\n",
    "# Örneğin cizelge_1.loc[4,6]: 4 rakamının kaç tane sayıda\n",
    "# 6 kere olduğunu vermekte;\n",
    "\n",
    "# Benzer şekilde, cizelge_1.loc[6,0]: 6 rakamını \n",
    "# hiç içermeyen kaç tane sayı olduğunu vermekte\n",
    "\n",
    "cizelge_1_np = np.zeros((10,10),int)\n",
    "for rakam in range(10):\n",
    "    for n in range(10):\n",
    "        rakamdan_n_tane_var = np.sum(cizelge_1_aux[rakam] == n)\n",
    "        cizelge_1_np[rakam,n] = rakamdan_n_tane_var\n",
    "cizelge_1_np\n",
    "\n",
    "cizelge_1 = pd.DataFrame(cizelge_1_np)\n",
    "cizelge_1.index.names = [\"Rakam\"]"
   ]
  },
  {
   "cell_type": "code",
   "execution_count": 16,
   "id": "dc784fa0",
   "metadata": {},
   "outputs": [
    {
     "data": {
      "text/html": [
       "<div>\n",
       "<style scoped>\n",
       "    .dataframe tbody tr th:only-of-type {\n",
       "        vertical-align: middle;\n",
       "    }\n",
       "\n",
       "    .dataframe tbody tr th {\n",
       "        vertical-align: top;\n",
       "    }\n",
       "\n",
       "    .dataframe thead th {\n",
       "        text-align: right;\n",
       "    }\n",
       "</style>\n",
       "<table border=\"1\" class=\"dataframe\">\n",
       "  <thead>\n",
       "    <tr style=\"text-align: right;\">\n",
       "      <th></th>\n",
       "      <th>1</th>\n",
       "      <th>2</th>\n",
       "      <th>3</th>\n",
       "      <th>4</th>\n",
       "      <th>5</th>\n",
       "      <th>6</th>\n",
       "      <th>7</th>\n",
       "      <th>8</th>\n",
       "      <th>9</th>\n",
       "      <th>0</th>\n",
       "    </tr>\n",
       "    <tr>\n",
       "      <th>Rakam</th>\n",
       "      <th></th>\n",
       "      <th></th>\n",
       "      <th></th>\n",
       "      <th></th>\n",
       "      <th></th>\n",
       "      <th></th>\n",
       "      <th></th>\n",
       "      <th></th>\n",
       "      <th></th>\n",
       "      <th></th>\n",
       "    </tr>\n",
       "  </thead>\n",
       "  <tbody>\n",
       "    <tr>\n",
       "      <th>0</th>\n",
       "      <td>15</td>\n",
       "      <td>6</td>\n",
       "      <td>3</td>\n",
       "      <td>0</td>\n",
       "      <td>0</td>\n",
       "      <td>1</td>\n",
       "      <td>0</td>\n",
       "      <td>0</td>\n",
       "      <td>0</td>\n",
       "      <td>15</td>\n",
       "    </tr>\n",
       "    <tr>\n",
       "      <th>1</th>\n",
       "      <td>18</td>\n",
       "      <td>4</td>\n",
       "      <td>3</td>\n",
       "      <td>0</td>\n",
       "      <td>0</td>\n",
       "      <td>0</td>\n",
       "      <td>0</td>\n",
       "      <td>0</td>\n",
       "      <td>0</td>\n",
       "      <td>15</td>\n",
       "    </tr>\n",
       "    <tr>\n",
       "      <th>2</th>\n",
       "      <td>19</td>\n",
       "      <td>6</td>\n",
       "      <td>2</td>\n",
       "      <td>0</td>\n",
       "      <td>0</td>\n",
       "      <td>0</td>\n",
       "      <td>0</td>\n",
       "      <td>0</td>\n",
       "      <td>0</td>\n",
       "      <td>13</td>\n",
       "    </tr>\n",
       "    <tr>\n",
       "      <th>3</th>\n",
       "      <td>15</td>\n",
       "      <td>5</td>\n",
       "      <td>1</td>\n",
       "      <td>0</td>\n",
       "      <td>1</td>\n",
       "      <td>0</td>\n",
       "      <td>0</td>\n",
       "      <td>0</td>\n",
       "      <td>0</td>\n",
       "      <td>18</td>\n",
       "    </tr>\n",
       "    <tr>\n",
       "      <th>4</th>\n",
       "      <td>14</td>\n",
       "      <td>8</td>\n",
       "      <td>1</td>\n",
       "      <td>0</td>\n",
       "      <td>1</td>\n",
       "      <td>0</td>\n",
       "      <td>0</td>\n",
       "      <td>0</td>\n",
       "      <td>0</td>\n",
       "      <td>16</td>\n",
       "    </tr>\n",
       "    <tr>\n",
       "      <th>5</th>\n",
       "      <td>17</td>\n",
       "      <td>6</td>\n",
       "      <td>2</td>\n",
       "      <td>0</td>\n",
       "      <td>0</td>\n",
       "      <td>0</td>\n",
       "      <td>0</td>\n",
       "      <td>0</td>\n",
       "      <td>0</td>\n",
       "      <td>15</td>\n",
       "    </tr>\n",
       "    <tr>\n",
       "      <th>6</th>\n",
       "      <td>18</td>\n",
       "      <td>2</td>\n",
       "      <td>2</td>\n",
       "      <td>1</td>\n",
       "      <td>0</td>\n",
       "      <td>0</td>\n",
       "      <td>0</td>\n",
       "      <td>0</td>\n",
       "      <td>0</td>\n",
       "      <td>17</td>\n",
       "    </tr>\n",
       "    <tr>\n",
       "      <th>7</th>\n",
       "      <td>17</td>\n",
       "      <td>6</td>\n",
       "      <td>1</td>\n",
       "      <td>1</td>\n",
       "      <td>0</td>\n",
       "      <td>0</td>\n",
       "      <td>0</td>\n",
       "      <td>0</td>\n",
       "      <td>0</td>\n",
       "      <td>15</td>\n",
       "    </tr>\n",
       "    <tr>\n",
       "      <th>8</th>\n",
       "      <td>14</td>\n",
       "      <td>7</td>\n",
       "      <td>2</td>\n",
       "      <td>0</td>\n",
       "      <td>0</td>\n",
       "      <td>0</td>\n",
       "      <td>0</td>\n",
       "      <td>0</td>\n",
       "      <td>0</td>\n",
       "      <td>17</td>\n",
       "    </tr>\n",
       "    <tr>\n",
       "      <th>9</th>\n",
       "      <td>19</td>\n",
       "      <td>5</td>\n",
       "      <td>3</td>\n",
       "      <td>0</td>\n",
       "      <td>0</td>\n",
       "      <td>0</td>\n",
       "      <td>0</td>\n",
       "      <td>0</td>\n",
       "      <td>0</td>\n",
       "      <td>13</td>\n",
       "    </tr>\n",
       "  </tbody>\n",
       "</table>\n",
       "</div>"
      ],
      "text/plain": [
       "        1  2  3  4  5  6  7  8  9   0\n",
       "Rakam                                \n",
       "0      15  6  3  0  0  1  0  0  0  15\n",
       "1      18  4  3  0  0  0  0  0  0  15\n",
       "2      19  6  2  0  0  0  0  0  0  13\n",
       "3      15  5  1  0  1  0  0  0  0  18\n",
       "4      14  8  1  0  1  0  0  0  0  16\n",
       "5      17  6  2  0  0  0  0  0  0  15\n",
       "6      18  2  2  1  0  0  0  0  0  17\n",
       "7      17  6  1  1  0  0  0  0  0  15\n",
       "8      14  7  2  0  0  0  0  0  0  17\n",
       "9      19  5  3  0  0  0  0  0  0  13"
      ]
     },
     "execution_count": 16,
     "metadata": {},
     "output_type": "execute_result"
    }
   ],
   "source": [
    "# Çizelge 1'in sütunlarını föydeki gibi sıralayalım\n",
    "# (0 en sonda olacak şekilde)\n",
    "cizelge_1 = cizelge_1.loc[:,[1,2,3,4,5,6,7,8,9,0]]\n",
    "cizelge_1"
   ]
  },
  {
   "cell_type": "markdown",
   "id": "c24d4c94",
   "metadata": {},
   "source": [
    ">Son olarak, olasılıkları elde etmek için bunları toplam ölçme sayısına bölün"
   ]
  },
  {
   "cell_type": "code",
   "execution_count": 17,
   "id": "e11959b1",
   "metadata": {},
   "outputs": [
    {
     "data": {
      "text/html": [
       "<div>\n",
       "<style scoped>\n",
       "    .dataframe tbody tr th:only-of-type {\n",
       "        vertical-align: middle;\n",
       "    }\n",
       "\n",
       "    .dataframe tbody tr th {\n",
       "        vertical-align: top;\n",
       "    }\n",
       "\n",
       "    .dataframe thead th {\n",
       "        text-align: right;\n",
       "    }\n",
       "</style>\n",
       "<table border=\"1\" class=\"dataframe\">\n",
       "  <thead>\n",
       "    <tr style=\"text-align: right;\">\n",
       "      <th></th>\n",
       "      <th>1</th>\n",
       "      <th>2</th>\n",
       "      <th>3</th>\n",
       "      <th>4</th>\n",
       "      <th>5</th>\n",
       "      <th>6</th>\n",
       "      <th>7</th>\n",
       "      <th>8</th>\n",
       "      <th>9</th>\n",
       "      <th>0</th>\n",
       "    </tr>\n",
       "    <tr>\n",
       "      <th>Rakam</th>\n",
       "      <th></th>\n",
       "      <th></th>\n",
       "      <th></th>\n",
       "      <th></th>\n",
       "      <th></th>\n",
       "      <th></th>\n",
       "      <th></th>\n",
       "      <th></th>\n",
       "      <th></th>\n",
       "      <th></th>\n",
       "    </tr>\n",
       "  </thead>\n",
       "  <tbody>\n",
       "    <tr>\n",
       "      <th>0</th>\n",
       "      <td>0.375</td>\n",
       "      <td>0.150</td>\n",
       "      <td>0.075</td>\n",
       "      <td>0.000</td>\n",
       "      <td>0.000</td>\n",
       "      <td>0.025</td>\n",
       "      <td>0.0</td>\n",
       "      <td>0.0</td>\n",
       "      <td>0.0</td>\n",
       "      <td>0.375</td>\n",
       "    </tr>\n",
       "    <tr>\n",
       "      <th>1</th>\n",
       "      <td>0.450</td>\n",
       "      <td>0.100</td>\n",
       "      <td>0.075</td>\n",
       "      <td>0.000</td>\n",
       "      <td>0.000</td>\n",
       "      <td>0.000</td>\n",
       "      <td>0.0</td>\n",
       "      <td>0.0</td>\n",
       "      <td>0.0</td>\n",
       "      <td>0.375</td>\n",
       "    </tr>\n",
       "    <tr>\n",
       "      <th>2</th>\n",
       "      <td>0.475</td>\n",
       "      <td>0.150</td>\n",
       "      <td>0.050</td>\n",
       "      <td>0.000</td>\n",
       "      <td>0.000</td>\n",
       "      <td>0.000</td>\n",
       "      <td>0.0</td>\n",
       "      <td>0.0</td>\n",
       "      <td>0.0</td>\n",
       "      <td>0.325</td>\n",
       "    </tr>\n",
       "    <tr>\n",
       "      <th>3</th>\n",
       "      <td>0.375</td>\n",
       "      <td>0.125</td>\n",
       "      <td>0.025</td>\n",
       "      <td>0.000</td>\n",
       "      <td>0.025</td>\n",
       "      <td>0.000</td>\n",
       "      <td>0.0</td>\n",
       "      <td>0.0</td>\n",
       "      <td>0.0</td>\n",
       "      <td>0.450</td>\n",
       "    </tr>\n",
       "    <tr>\n",
       "      <th>4</th>\n",
       "      <td>0.350</td>\n",
       "      <td>0.200</td>\n",
       "      <td>0.025</td>\n",
       "      <td>0.000</td>\n",
       "      <td>0.025</td>\n",
       "      <td>0.000</td>\n",
       "      <td>0.0</td>\n",
       "      <td>0.0</td>\n",
       "      <td>0.0</td>\n",
       "      <td>0.400</td>\n",
       "    </tr>\n",
       "    <tr>\n",
       "      <th>5</th>\n",
       "      <td>0.425</td>\n",
       "      <td>0.150</td>\n",
       "      <td>0.050</td>\n",
       "      <td>0.000</td>\n",
       "      <td>0.000</td>\n",
       "      <td>0.000</td>\n",
       "      <td>0.0</td>\n",
       "      <td>0.0</td>\n",
       "      <td>0.0</td>\n",
       "      <td>0.375</td>\n",
       "    </tr>\n",
       "    <tr>\n",
       "      <th>6</th>\n",
       "      <td>0.450</td>\n",
       "      <td>0.050</td>\n",
       "      <td>0.050</td>\n",
       "      <td>0.025</td>\n",
       "      <td>0.000</td>\n",
       "      <td>0.000</td>\n",
       "      <td>0.0</td>\n",
       "      <td>0.0</td>\n",
       "      <td>0.0</td>\n",
       "      <td>0.425</td>\n",
       "    </tr>\n",
       "    <tr>\n",
       "      <th>7</th>\n",
       "      <td>0.425</td>\n",
       "      <td>0.150</td>\n",
       "      <td>0.025</td>\n",
       "      <td>0.025</td>\n",
       "      <td>0.000</td>\n",
       "      <td>0.000</td>\n",
       "      <td>0.0</td>\n",
       "      <td>0.0</td>\n",
       "      <td>0.0</td>\n",
       "      <td>0.375</td>\n",
       "    </tr>\n",
       "    <tr>\n",
       "      <th>8</th>\n",
       "      <td>0.350</td>\n",
       "      <td>0.175</td>\n",
       "      <td>0.050</td>\n",
       "      <td>0.000</td>\n",
       "      <td>0.000</td>\n",
       "      <td>0.000</td>\n",
       "      <td>0.0</td>\n",
       "      <td>0.0</td>\n",
       "      <td>0.0</td>\n",
       "      <td>0.425</td>\n",
       "    </tr>\n",
       "    <tr>\n",
       "      <th>9</th>\n",
       "      <td>0.475</td>\n",
       "      <td>0.125</td>\n",
       "      <td>0.075</td>\n",
       "      <td>0.000</td>\n",
       "      <td>0.000</td>\n",
       "      <td>0.000</td>\n",
       "      <td>0.0</td>\n",
       "      <td>0.0</td>\n",
       "      <td>0.0</td>\n",
       "      <td>0.325</td>\n",
       "    </tr>\n",
       "  </tbody>\n",
       "</table>\n",
       "</div>"
      ],
      "text/plain": [
       "           1      2      3      4      5      6    7    8    9      0\n",
       "Rakam                                                                \n",
       "0      0.375  0.150  0.075  0.000  0.000  0.025  0.0  0.0  0.0  0.375\n",
       "1      0.450  0.100  0.075  0.000  0.000  0.000  0.0  0.0  0.0  0.375\n",
       "2      0.475  0.150  0.050  0.000  0.000  0.000  0.0  0.0  0.0  0.325\n",
       "3      0.375  0.125  0.025  0.000  0.025  0.000  0.0  0.0  0.0  0.450\n",
       "4      0.350  0.200  0.025  0.000  0.025  0.000  0.0  0.0  0.0  0.400\n",
       "5      0.425  0.150  0.050  0.000  0.000  0.000  0.0  0.0  0.0  0.375\n",
       "6      0.450  0.050  0.050  0.025  0.000  0.000  0.0  0.0  0.0  0.425\n",
       "7      0.425  0.150  0.025  0.025  0.000  0.000  0.0  0.0  0.0  0.375\n",
       "8      0.350  0.175  0.050  0.000  0.000  0.000  0.0  0.0  0.0  0.425\n",
       "9      0.475  0.125  0.075  0.000  0.000  0.000  0.0  0.0  0.0  0.325"
      ]
     },
     "execution_count": 17,
     "metadata": {},
     "output_type": "execute_result"
    }
   ],
   "source": [
    "cizelge_1_olasiliklar = cizelge_1/40\n",
    "cizelge_1_olasiliklar"
   ]
  },
  {
   "cell_type": "code",
   "execution_count": 18,
   "id": "17586766",
   "metadata": {},
   "outputs": [
    {
     "data": {
      "text/plain": [
       "1    0.4150\n",
       "2    0.1375\n",
       "3    0.0500\n",
       "4    0.0050\n",
       "5    0.0050\n",
       "6    0.0025\n",
       "7    0.0000\n",
       "8    0.0000\n",
       "9    0.0000\n",
       "0    0.3850\n",
       "dtype: float64"
      ]
     },
     "execution_count": 18,
     "metadata": {},
     "output_type": "execute_result"
    }
   ],
   "source": [
    "# Her rakamın olasılığı üzerinden\n",
    "# (yani sütunlar boyunca) ortalama\n",
    "# değerlerini alalım\n",
    "cizelge_1_olasiliklar_ortalama = cizelge_1_olasiliklar.mean()\n",
    "\n",
    "cizelge_1_olasiliklar_ortalama"
   ]
  },
  {
   "cell_type": "markdown",
   "id": "af40acca",
   "metadata": {},
   "source": [
    ">Sonuçlarınızı $P_{N,1/10} (n)$ binom dağılımı değerleriyle karşılaştırın."
   ]
  },
  {
   "cell_type": "code",
   "execution_count": 19,
   "id": "c2bc43f5",
   "metadata": {},
   "outputs": [
    {
     "name": "stdout",
     "output_type": "stream",
     "text": [
      "Seçilen bir rakamın 9 rakamlı bir sayıda:\n",
      "\n",
      "\t0 kere çıkma ihtimali: 0.387420489\n",
      "\t1 kere çıkma ihtimali: 0.387420489\n",
      "\t2 kere çıkma ihtimali: 0.172186884\n",
      "\t3 kere çıkma ihtimali: 0.044641044\n",
      "\t4 kere çıkma ihtimali: 0.007440174\n",
      "\t5 kere çıkma ihtimali: 0.000826686\n",
      "\t6 kere çıkma ihtimali: 0.000061236\n",
      "\t7 kere çıkma ihtimali: 0.000002916\n",
      "\t8 kere çıkma ihtimali: 0.000000081\n"
     ]
    },
    {
     "name": "stdout",
     "output_type": "stream",
     "text": [
      "\t9 kere çıkma ihtimali: 0.000000001\n"
     ]
    }
   ],
   "source": [
    "N = 9\n",
    "p = 1/10\n",
    "q = 1-p\n",
    "\n",
    "print(\"Seçilen bir rakamın 9 rakamlı bir sayıda:\\n\")\n",
    "for n in range(10):\n",
    "    olasilik_n_binom = special.comb(N,n)*p**n*q**(N-n)\n",
    "    print( \"\\t{:d} kere çıkma ihtimali: {:.9f}\"\\\n",
    "         .format(n,olasilik_n_binom))"
   ]
  },
  {
   "cell_type": "markdown",
   "id": "219e0ea1",
   "metadata": {},
   "source": [
    ">Bu dağılımın değerlerini hesaplarken P(n+1)'i P(n) cinsinden veren bir geri götürme (özyineleme / _recurrence_) bağıntısı kullanmak fazla işlem yapmayı engeller.\n",
    ">\n",
    ">Binom dağlımı için uygun olan geri götürme bağıntısı (...) aşağıdaki bağıntıdır.\n",
    ">\n",
    ">$$P_{N,p}(N+1)=\\frac{p(N-n)}{q(n+1)}P_{N,p}(n)$$\n",
    ">\n",
    ">Buna göre sadece $P_{N,p}(0)$'ı hesaplamak ve bu bağıntıyı kullanmak yeterlidir. Geri götürme bağıntısını kullanırken başta yapılan bir hata süregideceğinden genel olarak bu yol biraz sakıncalıdır. Bununla birlikte bu özel durumda artan n'ler için P’nin değerleri çok çabuk küçüldüğünden bir sakınca yoktur. Gerçekten, $n\\gt4$ için değerlerin $10^{-5}$'ten küçük olduğunu, böylece daha ileri gitmenin anlamsızlığını görmelisiniz."
   ]
  },
  {
   "cell_type": "code",
   "execution_count": 20,
   "id": "3c05fc8f",
   "metadata": {},
   "outputs": [
    {
     "name": "stdout",
     "output_type": "stream",
     "text": [
      "Seçilen bir rakamın 9 rakamlı bir sayıda n kere çıkma ihtimali:\n",
      "\n",
      " n      Binom    | Özyineleme  |    Örnek   \n",
      "--------------------------------------------\n",
      " 0   0.387420489 |             | 0.385000000\n",
      " 1   0.387420489 | 0.387420489 | 0.415000000\n",
      " 2   0.172186884 | 0.172186884 | 0.137500000\n",
      " 3   0.044641044 | 0.044641044 | 0.050000000\n",
      " 4   0.007440174 | 0.007440174 | 0.005000000\n",
      " 5   0.000826686 | 0.000826686 | 0.005000000\n",
      " 6   0.000061236 | 0.000061236 | 0.002500000\n",
      " 7   0.000002916 | 0.000002916 | 0.000000000\n",
      " 8   0.000000081 | 0.000000081 | 0.000000000\n",
      " 9   0.000000001 | 0.000000001 | 0.000000000\n"
     ]
    }
   ],
   "source": [
    "N = 9\n",
    "p = 1/10\n",
    "q = 1-p\n",
    "\n",
    "print(\"Seçilen bir rakamın 9 rakamlı bir sayıda n kere çıkma ihtimali:\\n\")\n",
    "\n",
    "print(\"{:^4s} {:^11s} | {:^11s} | {:^11s}\"\\\n",
    "      .format(\"n\",\"Binom\",\"Özyineleme\",\"Örnek\"))\n",
    "print(\"-\"*44)\n",
    "n = 0\n",
    "olasilik_n_binom = special.comb(N,n)*p**n*q**(N-n)\n",
    "P_Np_n = olasilik_n_binom\n",
    "print(\"{:^4d} {:.9f} | {:11s} | {:.9f}\"\\\n",
    "         .format(n,olasilik_n_binom,\"\",cizelge_1_olasiliklar_ortalama.loc[n]))\n",
    "\n",
    "for n in range(1,10):\n",
    "    olasilik_n_binom = special.comb(N,n)*p**n*q**(N-n)\n",
    "    olasilik_n_ozyineleme = p * (N-(n-1)) / (q*((n-1)+1))*P_Np_n\n",
    "    print(\"{:^4d} {:.9f} | {:.9f} | {:.9f}\"\\\n",
    "         .format(n,olasilik_n_binom,olasilik_n_ozyineleme,\\\n",
    "                 cizelge_1_olasiliklar_ortalama.loc[n]))\n",
    "    P_Np_n = olasilik_n_ozyineleme"
   ]
  },
  {
   "cell_type": "markdown",
   "id": "d0b93cb6",
   "metadata": {},
   "source": [
    ">3. Şimdi 9 rakamlı gelişigüzel sayı gruplarındaki sayıların dağılımı için Poisson yaklaşıklığını ele alalım. $N = 9$, $p = 1/10$ olup $a = Np = 0,9$'dur. Poisson dağılımını kullanarak $n$'nin 0'dan 9'a kadar olan değerleri için olasılıkları yeniden hesaplayın. Hiç kuşkusuz $N = 9$, $N = \\infty$'dan çok uzak olduğundan kesin bir uyuşma beklememeliyiz, fakat yine de karşılaştırma ilgi çekicidir."
   ]
  },
  {
   "cell_type": "code",
   "execution_count": 21,
   "id": "8b83df0b",
   "metadata": {},
   "outputs": [
    {
     "name": "stdout",
     "output_type": "stream",
     "text": [
      "0 0.4065696597405991\n",
      "1 0.36591269376653923\n",
      "2 0.16466071219494266\n",
      "3 0.0493982136584828\n",
      "4 0.011114598073158628\n",
      "5 0.002000627653168553\n",
      "6 0.000300094147975283\n",
      "7 3.858353331110782e-05\n",
      "8 4.340647497499629e-06\n",
      "9 4.3406474974996295e-07\n"
     ]
    }
   ],
   "source": [
    "N = 9\n",
    "p = 1/10\n",
    "a = N*p\n",
    "\n",
    "for n in range(10):\n",
    "    poisson = a**n*np.exp(-a) / special.factorial(n)\n",
    "    print(n,poisson)"
   ]
  },
  {
   "cell_type": "code",
   "execution_count": 22,
   "id": "2578e356",
   "metadata": {},
   "outputs": [
    {
     "name": "stdout",
     "output_type": "stream",
     "text": [
      "Seçilen bir rakamın 9 rakamlı bir sayıda n kere çıkma ihtimali:\n",
      "\n",
      " n      Binom    |    Örnek    |   Poisson  \n",
      "--------------------------------------------\n",
      " 0   0.387420489 | 0.385000000 | 0.406569660\n",
      " 1   0.387420489 | 0.415000000 | 0.365912694\n",
      " 2   0.172186884 | 0.137500000 | 0.164660712\n",
      " 3   0.044641044 | 0.050000000 | 0.049398214\n",
      " 4   0.007440174 | 0.005000000 | 0.011114598\n",
      " 5   0.000826686 | 0.005000000 | 0.002000628\n",
      " 6   0.000061236 | 0.002500000 | 0.000300094\n",
      " 7   0.000002916 | 0.000000000 | 0.000038584\n",
      " 8   0.000000081 | 0.000000000 | 0.000004341\n",
      " 9   0.000000001 | 0.000000000 | 0.000000434\n"
     ]
    }
   ],
   "source": [
    "N = 9\n",
    "p = 1/10\n",
    "q = 1-p\n",
    "\n",
    "print(\"Seçilen bir rakamın 9 rakamlı bir sayıda n kere çıkma ihtimali:\\n\")\n",
    "\n",
    "print(\"{:^4s} {:^11s} | {:^11s} | {:^11s}\"\\\n",
    "      .format(\"n\",\"Binom\",\"Örnek\",\"Poisson\"))\n",
    "print(\"-\"*44)\n",
    "\n",
    "dizi_binom = []\n",
    "dizi_ornek = []\n",
    "dizi_poisson = []\n",
    "\n",
    "for n in range(0,10):\n",
    "    olasilik_n_binom = special.comb(N,n)*p**n*q**(N-n)\n",
    "    poisson = a**n*np.exp(-a) / special.factorial(n)\n",
    "    print(\"{:^4d} {:.9f} | {:.9f} | {:.9f}\"\\\n",
    "         .format(n,olasilik_n_binom,\\\n",
    "                 cizelge_1_olasiliklar_ortalama.loc[n],poisson))\n",
    "    dizi_binom.append(olasilik_n_binom)\n",
    "    dizi_ornek.append(cizelge_1_olasiliklar_ortalama.loc[n])\n",
    "    dizi_poisson.append(poisson)"
   ]
  },
  {
   "cell_type": "code",
   "execution_count": 23,
   "id": "575c7f5b",
   "metadata": {},
   "outputs": [
    {
     "data": {
      "image/png": "[encoded data removed]",
      "text/plain": [
       "<Figure size 432x288 with 1 Axes>"
      ]
     },
     "metadata": {
      "filenames": {
       "image/png": "/stmp/code/books/Stuff/_build/jupyter_execute/FIZ302_IstatistikLab_BinomPoisson_39_0.png"
      },
      "needs_background": "light"
     },
     "output_type": "display_data"
    }
   ],
   "source": [
    "n = range(10)\n",
    "plt.plot(n,dizi_binom,\"*\",markerfacecolor=\"none\")\n",
    "plt.plot(n,dizi_ornek,\"x\")\n",
    "plt.plot(n,dizi_poisson,\"o\",markerfacecolor=\"none\")\n",
    "plt.legend([\"Binom\",\"Örnek\",\"Poisson\"])\n",
    "plt.show()"
   ]
  },
  {
   "cell_type": "code",
   "execution_count": null,
   "id": "0bc32226",
   "metadata": {},
   "outputs": [],
   "source": []
  }
 ],
 "metadata": {
  "jupytext": {
   "formats": "ipynb,md:myst",
   "text_representation": {
    "extension": ".md",
    "format_name": "myst",
    "format_version": 0.13,
    "jupytext_version": "1.11.5"
   }
  },
  "kernelspec": {
   "display_name": "Python 3 (ipykernel)",
   "language": "python",
   "name": "python3"
  },
  "language_info": {
   "codemirror_mode": {
    "name": "ipython",
    "version": 3
   },
   "file_extension": ".py",
   "mimetype": "text/x-python",
   "name": "python",
   "nbconvert_exporter": "python",
   "pygments_lexer": "ipython3",
   "version": "3.8.5"
  },
  "source_map": [
   13,
   25,
   30,
   36,
   40,
   46,
   53,
   64,
   68,
   72,
   78,
   82,
   95,
   99,
   107,
   116,
   133,
   140,
   147,
   152,
   159,
   171,
   181,
   192,
   196,
   201,
   206,
   227,
   248,
   253,
   257,
   262,
   269,
   273,
   283,
   293,
   316,
   320,
   330,
   356,
   365
  ]
 },
 "nbformat": 4,
 "nbformat_minor": 5
}